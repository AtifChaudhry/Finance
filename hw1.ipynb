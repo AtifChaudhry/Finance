{
 "metadata": {
  "name": ""
 },
 "nbformat": 3,
 "nbformat_minor": 0,
 "worksheets": [
  {
   "cells": [
    {
     "cell_type": "code",
     "collapsed": false,
     "input": [
      "import finance_formulas as fi # import the basic finace functions"
     ],
     "language": "python",
     "metadata": {},
     "outputs": [],
     "prompt_number": 3
    },
    {
     "cell_type": "markdown",
     "metadata": {},
     "source": [
      "# Assignment 1"
     ]
    },
    {
     "cell_type": "markdown",
     "metadata": {},
     "source": [
      "###Question 1\n",
      "####(5 points) \\$50 today is worth MORE than \\$50 tomorrow."
     ]
    },
    {
     "cell_type": "code",
     "collapsed": false,
     "input": [
      "False"
     ],
     "language": "python",
     "metadata": {},
     "outputs": [
      {
       "metadata": {},
       "output_type": "pyout",
       "prompt_number": 5,
       "text": [
        "False"
       ]
      }
     ],
     "prompt_number": 5
    },
    {
     "cell_type": "markdown",
     "metadata": {},
     "source": [
      "###Question 2\n",
      "####(5 points) At an interest rate of 10% it is better to have \\$100 today than \\$120 in 2 years."
     ]
    },
    {
     "cell_type": "code",
     "collapsed": false,
     "input": [
      "False"
     ],
     "language": "python",
     "metadata": {},
     "outputs": [
      {
       "metadata": {},
       "output_type": "pyout",
       "prompt_number": 6,
       "text": [
        "False"
       ]
      }
     ],
     "prompt_number": 6
    },
    {
     "cell_type": "markdown",
     "metadata": {},
     "source": [
      "### Question 3\n",
      "#### (5 points) Megan wants to buy a designer handbag and plans to earn the money babysitting. \n",
      "#### Suppose the interest rate is 6% and she is willing to wait one year to purchase the bag. \n",
      "#### How much babysitting money (to the nearest whole dollar) will she need to earn today to \n",
      "#### buy the bag for $400 one year from now?"
     ]
    },
    {
     "cell_type": "code",
     "collapsed": false,
     "input": [
      "money_needed = fi.disc(c=400, n=1, r=0.06)\n",
      "fi.rnd(money_needed)"
     ],
     "language": "python",
     "metadata": {},
     "outputs": [
      {
       "metadata": {},
       "output_type": "pyout",
       "prompt_number": 62,
       "text": [
        "377"
       ]
      }
     ],
     "prompt_number": 62
    },
    {
     "cell_type": "markdown",
     "metadata": {},
     "source": [
      "###Question 4\n",
      "####(10 points) Johnny and Darren both earn \\100 working on their respective neighbors' big \n",
      "####farms. Johnny puts his $100 in the piggy bank that his parents gave him to encourage him \n",
      "####to save. Darren puts his money in a savings account his parents set up for him. The \n",
      "####savings account pays 3% interest. They both take their money out after 5 years. How much \n",
      "####more money does Darren have than Johnny?"
     ]
    },
    {
     "cell_type": "code",
     "collapsed": false,
     "input": [
      "johnny = 100\n",
      "darren = fi.comp(c=100, n=5, r=0.03)\n",
      "fi.rnd(darren - johnny)"
     ],
     "language": "python",
     "metadata": {},
     "outputs": [
      {
       "metadata": {},
       "output_type": "pyout",
       "prompt_number": 6,
       "text": [
        "16"
       ]
      }
     ],
     "prompt_number": 6
    },
    {
     "cell_type": "markdown",
     "metadata": {},
     "source": [
      "### Question 5\n",
      "#### (10 points) Don has just received a cash gift of \\$50,000 from his rich eccentric uncle. \n",
      "#### He wants to set it aside to pay for his daughter Cynthia's college education. Cynthia \n",
      "#### will begin college in 10 years and Don's financial advisor says that she can earn 7% \n",
      "#### interest on an investment in a special college fund. How much will Don have in the fund \n",
      "#### when Cynthia begins college? "
     ]
    },
    {
     "cell_type": "code",
     "collapsed": false,
     "input": [
      "fi.rnd(fi.comp(c=50000, n=10, r=0.07))"
     ],
     "language": "python",
     "metadata": {},
     "outputs": [
      {
       "metadata": {},
       "output_type": "pyout",
       "prompt_number": 59,
       "text": [
        "98358"
       ]
      }
     ],
     "prompt_number": 59
    },
    {
     "cell_type": "markdown",
     "metadata": {},
     "source": [
      "### Question 6\n",
      "#### (10 points) Bridgette's grandparents opened a savings account for her and placed \\$500 \n",
      "#### in the account. The account pays 3.5% interest. Bridgette wants to be a singer and she \n",
      "#### has her heart set on a new karaoke machine. The machine costs \\$150. How much less will \n",
      "#### the account be worth in 8 years if she buys the karaoke machine now versus leaving the \n",
      "#### account untouched? "
     ]
    },
    {
     "cell_type": "code",
     "collapsed": false,
     "input": [
      "fi.rnd(fi.comp(c=150, n=8, r=0.035))"
     ],
     "language": "python",
     "metadata": {},
     "outputs": [
      {
       "metadata": {},
       "output_type": "pyout",
       "prompt_number": 58,
       "text": [
        "198"
       ]
      }
     ],
     "prompt_number": 58
    },
    {
     "cell_type": "markdown",
     "metadata": {},
     "source": [
      "### Question 7\n",
      "#### (10 points) The Johnson family is worried about their ability to pay college tuition \n",
      "#### for their daughter Chloe. Tuition rates are currently \\$9,500 per year at the state \n",
      "#### college and have been increasing at a rate of 7% annually. Chloe will begin college \n",
      "#### in 7 years. The Johnson's have \\$9,500 set aside now in a college plan that will earn \n",
      "#### 6% per year. They recently heard about a plan to pre-pay tuition at current rates, \n",
      "#### that is pay \\$9,500 per year of college. Should they pre-pay Chloe's first year now \n",
      "#### or keep the money invested and pay the tuition 7 years from now? How much are they \n",
      "#### saving in FV terms with this decision?"
     ]
    },
    {
     "cell_type": "code",
     "collapsed": false,
     "input": [
      "tution_future = fi.comp(c=9500, n=7, r=0.07)\n",
      "saving_future = fi.comp(c=9500, n=7, r=0.06)\n",
      "\n",
      "'(Pre-pay; %i)' % round(tution_future - saving_future)"
     ],
     "language": "python",
     "metadata": {},
     "outputs": [
      {
       "metadata": {},
       "output_type": "pyout",
       "prompt_number": 68,
       "text": [
        "'(Pre-pay; 970)'"
       ]
      }
     ],
     "prompt_number": 68
    },
    {
     "cell_type": "markdown",
     "metadata": {},
     "source": [
      "### Question 8\n",
      "#### (15 points) Juan has \\$100,000 to invest and he has narrowed down his decision to \n",
      "#### two investments. Option A returns 60% annually for 4 years, but the maximum investment \n",
      "#### he can make is \\$10,000. Option B returns 12% annually for 4 years and would require \n",
      "#### the entire \\$100,000. Which option produces the best result for Juan and what is the \n",
      "#### benefit over the lesser option? Assume that the $90,000 not invested in Option A \n",
      "#### would be placed in a safe deposit box earning no interest.\n"
     ]
    },
    {
     "cell_type": "code",
     "collapsed": false,
     "input": [
      "option_a = fi.comp(c=10000, n=4, r=0.6) + 90000\n",
      "option_b = fi.comp(c=100000, n=4, r=0.12)\n",
      "\n",
      "'Option %s; %i' % (('A' if option_a > option_b else 'B'), round(abs(option_a - option_b)))"
     ],
     "language": "python",
     "metadata": {},
     "outputs": [
      {
       "metadata": {},
       "output_type": "pyout",
       "prompt_number": 67,
       "text": [
        "'Option B; 1816'"
       ]
      }
     ],
     "prompt_number": 67
    },
    {
     "cell_type": "markdown",
     "metadata": {},
     "source": [
      "### Question 9\n",
      "#### (15 points) Jessica is in the market for a new car. She has narrowed her search down \n",
      "#### to 2 models. Model A costs $20,000 and Model B costs \\$18,000. With both cars she plans \n",
      "#### to pay cash and own them for 5 years before trading in for a new car. Her research \n",
      "#### indicates that the trade in value for Model A after 5 years is 50% of the initial \n",
      "#### purchase price. The trade in value for Model B is 25%. Jessica has no emotional \n",
      "#### attachment to either model and wants to make a strictly financial decision. The\n",
      "#### interest rate is 6%. For simplicity assume that operating and maintenance costs for \n",
      "#### the models are identical every year. Which model is the better decision and how much \n",
      "#### \"cheaper\" is it than the alternative?"
     ]
    },
    {
     "cell_type": "code",
     "collapsed": false,
     "input": [
      "n = 5\n",
      "r = 0.06\n",
      "\n",
      "# Model A\n",
      "price_a  = 20000\n",
      "resale_a = price_a * 0.5\n",
      "cost_a   = price_a - fi.disc(resale_a, n, r)\n",
      "\n",
      "# Model B\n",
      "price_b  = 18000\n",
      "resale_b = price_b * 0.25\n",
      "cost_b   = price_b - fi.disc(resale_b, n, r)\n",
      "\n",
      "'Model %s; %i' % (('A' if cost_a < cost_b else 'B'), fi.rnd(abs(cost_a - cost_b)))\n"
     ],
     "language": "python",
     "metadata": {},
     "outputs": [
      {
       "metadata": {},
       "output_type": "pyout",
       "prompt_number": 66,
       "text": [
        "'Model A; 2110'"
       ]
      }
     ],
     "prompt_number": 66
    },
    {
     "cell_type": "markdown",
     "metadata": {},
     "source": [
      "### Question 10\n",
      "#### (15 points) Christine is a new homebuyer. She wants to make sure that she incorporates \n",
      "#### the cost of maintenance into her decision. She estimates that routine repairs and \n",
      "#### maintenance on the home she is considering will be \\$1,590 in the first year (one year\n",
      "#### from now). Due to the increasing age of the home, she expects that maintenance costs\n",
      "#### will increase 6% annually. The interest rate is 5%. If she plans to be in the home for\n",
      "#### 10 years, what is the present value of all future maintenance? (Note that maintenance\n",
      "#### costs will change annually, and starts one year from now and she plans to do the last\n",
      "#### one before selling her house.)"
     ]
    },
    {
     "cell_type": "code",
     "collapsed": false,
     "input": [
      "r             = 0.05\n",
      "cost_inc_rate = 0.06\n",
      "cost_initial  = 1590\n",
      "cost_total    = 0\n",
      "for i in range(10):\n",
      "  cost_current = fi.comp(cost_initial, i, cost_inc_rate)   \n",
      "  cost_total  += fi.disc(cost_current, i+1, r)\n",
      "\n",
      "fi.rnd(cost_total)"
     ],
     "language": "python",
     "metadata": {},
     "outputs": [
      {
       "metadata": {},
       "output_type": "pyout",
       "prompt_number": 69,
       "text": [
        "15809"
       ]
      }
     ],
     "prompt_number": 69
    },
    {
     "cell_type": "code",
     "collapsed": false,
     "input": [],
     "language": "python",
     "metadata": {},
     "outputs": []
    }
   ],
   "metadata": {}
  }
 ]
}