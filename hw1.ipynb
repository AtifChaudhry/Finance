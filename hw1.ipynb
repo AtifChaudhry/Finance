{
 "metadata": {
  "name": ""
 },
 "nbformat": 3,
 "nbformat_minor": 0,
 "worksheets": [
  {
   "cells": [
    {
     "cell_type": "markdown",
     "metadata": {},
     "source": [
      "# Assignment 1"
     ]
    },
    {
     "cell_type": "code",
     "collapsed": false,
     "input": [
      "# import the basic finace functions\n",
      "import finance_formulas as fi"
     ],
     "language": "python",
     "metadata": {},
     "outputs": [],
     "prompt_number": 2
    },
    {
     "cell_type": "markdown",
     "metadata": {},
     "source": [
      "###Question 1\n",
      "####(5 points) \\$50 today is worth MORE than \\$50 tomorrow."
     ]
    },
    {
     "cell_type": "code",
     "collapsed": false,
     "input": [
      "False"
     ],
     "language": "python",
     "metadata": {},
     "outputs": [
      {
       "metadata": {},
       "output_type": "pyout",
       "prompt_number": 5,
       "text": [
        "False"
       ]
      }
     ],
     "prompt_number": 5
    },
    {
     "cell_type": "markdown",
     "metadata": {},
     "source": [
      "###Question 2\n",
      "####(5 points) At an interest rate of 10% it is better to have \\$100 today than \\$120 in 2 years."
     ]
    },
    {
     "cell_type": "code",
     "collapsed": false,
     "input": [
      "False"
     ],
     "language": "python",
     "metadata": {},
     "outputs": [
      {
       "metadata": {},
       "output_type": "pyout",
       "prompt_number": 6,
       "text": [
        "False"
       ]
      }
     ],
     "prompt_number": 6
    },
    {
     "cell_type": "markdown",
     "metadata": {},
     "source": [
      "### Question 3\n",
      "#### (5 points) Megan wants to buy a designer handbag and plans to earn the money babysitting. \n",
      "#### Suppose the interest rate is 6% and she is willing to wait one year to purchase the bag. \n",
      "#### How much babysitting money (to the nearest whole dollar) will she need to earn today to \n",
      "#### buy the bag for $400 one year from now?"
     ]
    },
    {
     "cell_type": "code",
     "collapsed": false,
     "input": [
      "fi.rnd(fi.disc(c=400, n=1, r=0.06))"
     ],
     "language": "python",
     "metadata": {},
     "outputs": [
      {
       "metadata": {},
       "output_type": "pyout",
       "prompt_number": 8,
       "text": [
        "377"
       ]
      }
     ],
     "prompt_number": 8
    },
    {
     "cell_type": "code",
     "collapsed": false,
     "input": [],
     "language": "python",
     "metadata": {},
     "outputs": []
    }
   ],
   "metadata": {}
  }
 ]
}