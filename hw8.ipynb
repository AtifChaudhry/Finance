{
 "metadata": {
  "name": "",
  "signature": "sha256:592acdabf827a356fa5118441b0df430e66f7127f6c90627a045487e85eb80e6"
 },
 "nbformat": 3,
 "nbformat_minor": 0,
 "worksheets": [
  {
   "cells": [
    {
     "cell_type": "markdown",
     "metadata": {},
     "source": [
      "# Assignment 8\n",
      "# "
     ]
    },
    {
     "cell_type": "code",
     "collapsed": false,
     "input": [
      "import finance_formulas as fi # import the basic finace functions\n",
      "ans = fi.Answers()            # list of computed answers"
     ],
     "language": "python",
     "metadata": {},
     "outputs": [],
     "prompt_number": 1
    },
    {
     "cell_type": "markdown",
     "metadata": {},
     "source": [
      "### Question 1\n",
      "\n",
      "(5 points) According to the principle of diversification, the only way to lower the risk of a portfolio you must add assets that are negatively correlated with your existing portfolio.\n",
      "* True.\n",
      "* False.\n"
     ]
    },
    {
     "cell_type": "code",
     "collapsed": false,
     "input": [
      "ans.add('Missing')"
     ],
     "language": "python",
     "metadata": {},
     "outputs": [
      {
       "metadata": {},
       "output_type": "pyout",
       "prompt_number": 2,
       "text": [
        "'Missing'"
       ]
      }
     ],
     "prompt_number": 2
    },
    {
     "cell_type": "markdown",
     "metadata": {},
     "source": [
      "###Question 2\n",
      "(10 points) You have an equally-weighted portfolio that consists of equity ownership in three firms. Firm X is trading at \\$19 per share and has a beta of 1.40; Firm Y is trading at \\$87 per share with a beta of 2.00; Firm Z is trading at \\$21 per share with a beta of 0.70. Assume a risk free rate of 2.5% and market return of 8%. If each stock has a standard deviation of 35% and the stocks have a correlation of 0.25 with each other, your portfolio's expected return is closest to\n",
      "* 10%.\n",
      "* 8%.\n",
      "* 14%.\n",
      "* 12%."
     ]
    },
    {
     "cell_type": "code",
     "collapsed": false,
     "input": [
      "ans.add('Missing')"
     ],
     "language": "python",
     "metadata": {},
     "outputs": [
      {
       "metadata": {},
       "output_type": "pyout",
       "prompt_number": 3,
       "text": [
        "'Missing'"
       ]
      }
     ],
     "prompt_number": 3
    },
    {
     "cell_type": "markdown",
     "metadata": {},
     "source": [
      "###Question 3\n",
      "(10 points) You have a portfolio that consists of equity ownership in three firms. You own 200 shares of Euro General Stores (EGS), 450 shares of Fuerte Steel (FS) and 350 shares of Bamboo Flooring (BF). Their current share prices are \\$62, \\$73, and \\$12, respectively. What is the weight of FS in your portfolio? (Enter the answer with no more nor less than two decimal places, and leave off the % sign. For example, if your answer is 13.97% you should enter it as 13.97 NOT 0.14 nor 14) "
     ]
    },
    {
     "cell_type": "code",
     "collapsed": false,
     "input": [
      "ans.add('Missing')"
     ],
     "language": "python",
     "metadata": {},
     "outputs": [
      {
       "metadata": {},
       "output_type": "pyout",
       "prompt_number": 4,
       "text": [
        "'Missing'"
       ]
      }
     ],
     "prompt_number": 4
    },
    {
     "cell_type": "markdown",
     "metadata": {},
     "source": [
      "###Question 4\n",
      "(10 points) With everyone nervous about their investments after the recent financial crisis, suppose a new firm, Safety Net Insurance (SNI), emerges to sell people insurance against poorly performing markets in exchange for an annual premium. Suppose you decide to purchase one of these insurance contracts from SNI. You would expect that such an investment would have a beta that is\n",
      "* Positive.\n",
      "* Close to zero.\n",
      "* Negative."
     ]
    },
    {
     "cell_type": "code",
     "collapsed": false,
     "input": [
      "ans.add('Missing')"
     ],
     "language": "python",
     "metadata": {},
     "outputs": [
      {
       "metadata": {},
       "output_type": "pyout",
       "prompt_number": 5,
       "text": [
        "'Missing'"
       ]
      }
     ],
     "prompt_number": 5
    },
    {
     "cell_type": "markdown",
     "metadata": {},
     "source": [
      "### Question 5\n",
      "(10 points) Suppose there are three securities (X, Y, and Z) to choose from to create your portfolio. Next year the economy will be in an expansion, normal, or recession state with probabilities 0.30, 0.50, and 0.20, respectively. The returns (%) on the securities in these states are as follows: Security X {expansion = +12, normal = +7, recession = 0}; Security Y {+7, +6, +5}; Security Z {-1, 0, +6}. You are considering 4 potential portfolios of these 3 securities, with the following specific weights on each: Portfolio I (0.20, 0.40, 0.40); Portfolio II (0.34, 0.33, 0.33); Portfolio III (0.50, 0.25, 0.25); Portfolio IV (0.15, 0.70, 0.15); where the numbers in each parentheses are (weight of X, weight of Y, weight of Z). Which portfolio has the lowest risk?\n",
      "* Portfolio I.\n",
      "* Portfolio IV.\n",
      "* Portfolio II.\n",
      "* Portfolio III."
     ]
    },
    {
     "cell_type": "code",
     "collapsed": false,
     "input": [
      "ans.add('Missing')"
     ],
     "language": "python",
     "metadata": {},
     "outputs": [
      {
       "metadata": {},
       "output_type": "pyout",
       "prompt_number": 6,
       "text": [
        "'Missing'"
       ]
      }
     ],
     "prompt_number": 6
    },
    {
     "cell_type": "markdown",
     "metadata": {},
     "source": [
      "###Question 6\n",
      "(10 points) The PSI-20 is an index of the 20 largest market capitalization stocks traded on the Euronext Lisbon Stock Exchange in Portugal. You think that 20 stocks may not give you enough diversification, so you want to expand that list to the top 60 stocks. By doing this, what is the percentage increase in the UNIQUE relations between any two stocks in your portfolio that you will have to worry about? (Enter the answer with no more nor less than two decimal places, and leave off the % sign. For example, if your answer is 13.97% you should enter it as 13.97 NOT 0.14 nor 14) "
     ]
    },
    {
     "cell_type": "code",
     "collapsed": false,
     "input": [
      "ans.add('Missing')"
     ],
     "language": "python",
     "metadata": {},
     "outputs": [
      {
       "metadata": {},
       "output_type": "pyout",
       "prompt_number": 7,
       "text": [
        "'Missing'"
       ]
      }
     ],
     "prompt_number": 7
    },
    {
     "cell_type": "markdown",
     "metadata": {},
     "source": [
      "###Question 7\n",
      "(10 points) Given the definition of beta in the context of the CAPM, a stock with low beta can have more volatility (variance or standard deviation) than a stock with high beta.\n",
      "* False.\n",
      "* True."
     ]
    },
    {
     "cell_type": "code",
     "collapsed": false,
     "input": [
      "ans.add('Missing')"
     ],
     "language": "python",
     "metadata": {},
     "outputs": [
      {
       "metadata": {},
       "output_type": "pyout",
       "prompt_number": 8,
       "text": [
        "'Missing'"
       ]
      }
     ],
     "prompt_number": 8
    },
    {
     "cell_type": "markdown",
     "metadata": {},
     "source": [
      "###Question 8\n",
      "(10 points) Suppose CAPM works, and you know that the expected returns on Walmart and Amazon are estimated to be 12% and 10%, respectively. You have just calculated extremely reliable estimates of the betas of Walmart and Amazon to be 1.30 and 0.90, respectively. Given this data, what is a reasonable estimate of the risk-free rate (the return on a long-term government bond)? (Enter the answer with no more nor less than two decimal places, and leave off the % sign. For example, if your answer is 13.97% you should enter it as 13.97 NOT 0.14 nor 14) "
     ]
    },
    {
     "cell_type": "code",
     "collapsed": false,
     "input": [
      "ans.add('Missing')"
     ],
     "language": "python",
     "metadata": {},
     "outputs": [
      {
       "metadata": {},
       "output_type": "pyout",
       "prompt_number": 9,
       "text": [
        "'Missing'"
       ]
      }
     ],
     "prompt_number": 9
    },
    {
     "cell_type": "markdown",
     "metadata": {},
     "source": [
      "###Question 9\n",
      "(10 points) The standard deviation of a portfolio's return is the weighted average of the standard deviations of the returns of all securities in the portfolio, where the weights are proportional to the amount of your investment in a security relative to your total investment.\n",
      "* True.\n",
      "* False."
     ]
    },
    {
     "cell_type": "code",
     "collapsed": false,
     "input": [
      "ans.add('Missing')"
     ],
     "language": "python",
     "metadata": {},
     "outputs": [
      {
       "metadata": {},
       "output_type": "pyout",
       "prompt_number": 10,
       "text": [
        "'Missing'"
       ]
      }
     ],
     "prompt_number": 10
    },
    {
     "cell_type": "markdown",
     "metadata": {},
     "source": [
      "###Question 10\n",
      "(15 Points) Your company is very well-diversified, producing and selling all kinds of goods and services, with each division being approximately of the same value/size. The beta of your company is therefore effectively 1.00. The market risk premium (the average/expected difference between the market return and the risk-free rate) is 5.50% and the return on a long-term government bond is 4.50%. You have discovered an exciting opportunity to create a new medicine that will cure the common cold. This project will require a \\$1 billion investment, spread out equally between now (t = 0) and the end of this year (t = 1), and will produce \\$150 million dollars in perpetuity starting in year 2 (t = 2). Should you propose this investment to your CEO?\n",
      "* Do not know.\n",
      "* No.\n",
      "* Yes."
     ]
    },
    {
     "cell_type": "code",
     "collapsed": false,
     "input": [
      "ans.add('Missing')"
     ],
     "language": "python",
     "metadata": {},
     "outputs": [
      {
       "metadata": {},
       "output_type": "pyout",
       "prompt_number": 11,
       "text": [
        "'Missing'"
       ]
      }
     ],
     "prompt_number": 11
    },
    {
     "cell_type": "code",
     "collapsed": false,
     "input": [
      "ans.display()"
     ],
     "language": "python",
     "metadata": {},
     "outputs": [
      {
       "output_type": "stream",
       "stream": "stdout",
       "text": [
        " 1. Missing\n",
        " 2. Missing\n",
        " 3. Missing\n",
        " 4. Missing\n",
        " 5. Missing\n",
        " 6. Missing\n",
        " 7. Missing\n",
        " 8. Missing\n",
        " 9. Missing\n",
        "10. Missing\n"
       ]
      }
     ],
     "prompt_number": 12
    }
   ],
   "metadata": {}
  }
 ]
}