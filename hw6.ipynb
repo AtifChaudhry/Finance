{
 "metadata": {
  "name": "",
  "signature": "sha256:561f4926da60ebaf20d83b7553b8fb415ee8c65f0f4883dfb235096b172dd35c"
 },
 "nbformat": 3,
 "nbformat_minor": 0,
 "worksheets": [
  {
   "cells": [
    {
     "cell_type": "markdown",
     "metadata": {},
     "source": [
      "# Assignment 6\n",
      "# "
     ]
    },
    {
     "cell_type": "code",
     "collapsed": false,
     "input": [
      "import finance_formulas as fi # import the basic finace functions\n",
      "ans = fi.Answers()            # list of computed answers"
     ],
     "language": "python",
     "metadata": {},
     "outputs": [],
     "prompt_number": 1
    },
    {
     "cell_type": "markdown",
     "metadata": {},
     "source": [
      "### Question 1\n",
      "(5 points) Bonds require issuers to repay the principal (or face value) and (where applicable) precise coupon payments until contract maturity, while Equity requires the firm to pay a certain dividend in perpetuity.\n",
      "* True.\n",
      "* False."
     ]
    },
    {
     "cell_type": "markdown",
     "metadata": {},
     "source": [
      "###Question 2\n",
      "(5 points) Rafael and Roberta are arguing about the best way to value Sporks, Inc - a mature firm that manufactures plastic utensils. Rafael argues that this industry has little room for innovation and since Sporks, Inc no longer retains any of their earnings, the present value of all future earnings represents a good estimate of the stock's value. Roberta disagrees. Who is right?\n",
      "* Rafael.\n",
      "* Roberta."
     ]
    },
    {
     "cell_type": "markdown",
     "metadata": {},
     "source": [
      "###Question 3\n",
      "(5 points) (One-period pricing. Recall that since stocks have really long lives, in the video we first imagined owning a stock for only one period. In this simple, yet powerful scenario, today's stock price is the PV of next year's dividend and next year's stock price.) The stock of Alydar Oil, an all-equity firm, is currently trading at \\$45 per share, after just having paid a \\$2 per share dividend. The market expects a dividend of \\$3 per share to be paid one year from today. If the equity cost of capital (same as discount rate for equity) is 20% for this firm, the expected ex-dividend price (the stock price after the dividend is paid next year) in one year (t = 1) should be closest to:\n",
      "* 54\n",
      "* 45\n",
      "* 51\n",
      "* 48"
     ]
    },
    {
     "cell_type": "markdown",
     "metadata": {},
     "source": [
      "###Question 4\n",
      "(5 points) (One period stock pricing.) Julia's Jewel Company (JJC) currently has a stock price of \\$42 per share. If JJC's cost of equity capital (same as discount rate for equity) is 16% and the current dividend yield (DIV1/P0) is 6.25%, the expected price per share of the company in one year (t = 1) is closest to?\n",
      "* 43\n",
      "* 46\n",
      "* 47\n",
      "* 44"
     ]
    },
    {
     "cell_type": "markdown",
     "metadata": {},
     "source": [
      "### Question 5\n",
      "(10 points) Electricity for All (EFL) is preparing for their Initial Public Equity Offering (IPO). Being in a highly regulated industry, and with no plans for expanding, EFL plans to payout all of its earnings as dividends that are expected to the be same. If the expected rate of return on its equity is 12% and a fair IPO price is \\$85 per share, what is EFL's dividend per share? (Enter just the number without the $ sign or a comma; round off decimals.)"
     ]
    },
    {
     "cell_type": "markdown",
     "metadata": {},
     "source": [
      "###Question 6\n",
      "(10 points) A good way to align the incentives of a CEO with those of shareholders is to make his pay directly related to earnings (or cash flows) per share (EPS), since an increase in earnings always leads to an increase in shareholder value.\n",
      "* False.\n",
      "* True."
     ]
    },
    {
     "cell_type": "markdown",
     "metadata": {},
     "source": [
      "###Question 7\n",
      "(15 points) You are deciding whether to add Bard Publishing to your portfolio, but you are concerned about your projection for their growth rate. Bard's cost of equity capital (the discount rate for equity) is known to be 14% and they just paid a dividend of \\$2 per share. When calculating the value of the stock today, you cannot decide if the constant growth rate will be 6% or 7%. By how much does this seemingly small difference impact your valuation, i.e., the price per share? (Enter just the number without the \\$ sign or a comma; round off decimals.) "
     ]
    },
    {
     "cell_type": "markdown",
     "metadata": {},
     "source": [
      "###Question 8\n",
      "(15 points) GraceBook is a young firm that is in the process of creating a new web-based social media platform that is focused on the corporate market. While they are unable to pay any dividends today, once corporate contracts are awarded, they expect to be able to start paying a dividend of \\$2.00 per share beginning two years from now (t = 2). From that point forward, as they build their reputation and capacity, they expect to be able to increase their dividend each year at a constant rate. If GraceBook's current stock price is \\$31 and their cost of equity capital (the discount rate for equity) is 9%, what is the growth rate implied by this price per share? (Enter the answer with no more nor less than two decimal places, and leave off the % sign. For example, if your answer is 13.97% you should enter it as 13.97 NOT 0.14 nor 14) "
     ]
    },
    {
     "cell_type": "markdown",
     "metadata": {},
     "source": [
      "###Question 9\n",
      "(15 points) Viento Windmills is a utility that charges customers for their wind generated electricity. With their current technology, they earn a total of \\$50 million each year to pay out to their 2 million shareholders. While their geographic footprint is fixed and we can't expect the climate to get progressively windier over time, they do have an opportunity to invest in technology that will more efficiently extract the wind energy and thus produce more megawatts to sell to customers. A one-time investment at the end of this year (t = 1) of \\$25 million for a state of the art lubricant system for the windmills will increase their cash flows by \\$10 million per year starting the following year (t = 2) and in perpetuity. If Viento plans to make the investment and cost of equity capital (the discount rate for equity) is 9%, calculate the increase or decrease in the share price of Viento as a result of this decision. (Draw time line to understand what is going on.) (Enter just the number without the \\$ sign or a comma; round off decimals.) \n"
     ]
    },
    {
     "cell_type": "markdown",
     "metadata": {},
     "source": [
      "###Question 10\n",
      "(15 points) HigherEducation, Inc., a private educational company's share price is \\$100 per share; earnings and dividends are \\$10 a share, and the growth rate is zero. They have just announced a new growth strategy whereby the company\u2019s earnings would begin growing by 5% per year and remain stable at this new rate. This new growth strategy will require the company to reinvest 50% of their earnings starting at the end of this year (t = 1). What will happen to the price per share of this company? (Think carefully, draw a time line.)\n",
      "* Price will increase by \\$1 per share.\n",
      "* Price will remain unchanged.\n",
      "* Price will increase by \\$2 per share.\n",
      "* Price will decrease by \\$1 per share.\n",
      "* Price will decrease by \\$2 per share."
     ]
    },
    {
     "cell_type": "code",
     "collapsed": false,
     "input": [
      "ans.display()"
     ],
     "language": "python",
     "metadata": {},
     "outputs": [],
     "prompt_number": 2
    }
   ],
   "metadata": {}
  }
 ]
}