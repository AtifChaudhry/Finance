{
 "metadata": {
  "name": "",
  "signature": "sha256:a601d6153ee671cd0d8cf3fb4f9aba6221b6fcc791e3cc3ff39854a743824167"
 },
 "nbformat": 3,
 "nbformat_minor": 0,
 "worksheets": [
  {
   "cells": [
    {
     "cell_type": "code",
     "collapsed": false,
     "input": [
      "import finance_formulas as fi # import the basic finace functions"
     ],
     "language": "python",
     "metadata": {},
     "outputs": [],
     "prompt_number": 1
    },
    {
     "cell_type": "markdown",
     "metadata": {},
     "source": [
      "# Assignment 3"
     ]
    },
    {
     "cell_type": "markdown",
     "metadata": {},
     "source": [
      "### Question 1\n",
      "(5 points) Becky needs another \\$1,200 in her vehicle fund to purchase the car she wants. Her \n",
      "parents offer to loan her the money, but want to teach her about the time value of money. They \n",
      "offer to have her repay the loan in the future using birthday and holiday money. They agree \n",
      "that she will repay \\$450 at each of her next two birthdays and one holiday season. These events\n",
      "are 3, 6 and 15 months from now. Assume a 6% cost of capital. Assume there is no risk of \n",
      "default, and that compounding is monthly. What is the NPV of the loan?"
     ]
    },
    {
     "cell_type": "code",
     "collapsed": false,
     "input": [
      "r   = 0.06/12\n",
      "npv = -1200 + fi.disc(450, 3, r) + fi.disc(450, 6, r) + fi.disc(450, 15, r)\n",
      "\n",
      "fi.rnd(npv)"
     ],
     "language": "python",
     "metadata": {},
     "outputs": [
      {
       "metadata": {},
       "output_type": "pyout",
       "prompt_number": 2,
       "text": [
        "98"
       ]
      }
     ],
     "prompt_number": 2
    },
    {
     "cell_type": "markdown",
     "metadata": {},
     "source": [
      "### Question 2\n",
      "(5 points) Jacob has an opportunity to invest in a new retail development in his building. The \n",
      "initial investment is \\$50,000 and the expected cashflows are as follows: Year 1: \\$2,500 Year 2: \n",
      "\\$5,000 Year 3: \\$5,000 Year 4: \\$7,500 Year 5: \\$10,000 Year 6: \\$10,000 Year 7: \\$15,000 Year 8: \n",
      "\\$15,000 What is Jacob's IRR on this investment? (Enter the answer with no more nor less than \n",
      "two decimal places, and leave off the % sign. For example, if your answer is 13.97% you should \n",
      "enter it as 13.97 NOT 0.14 nor 14)"
     ]
    },
    {
     "cell_type": "code",
     "collapsed": false,
     "input": [
      "cf  = [ \n",
      "    #     CF  # Year\n",
      "      -50000, #    0\n",
      "        2500, #    1\n",
      "        5000, #    2\n",
      "        5000, #    3\n",
      "        7500, #    4\n",
      "       10000, #    5\n",
      "       10000, #    6\n",
      "       15000, #    7\n",
      "       15000  #    8\n",
      "]\n",
      "irr = fi.irr(cf)\n",
      "\n",
      "round(irr*100, 2)"
     ],
     "language": "python",
     "metadata": {},
     "outputs": [
      {
       "metadata": {},
       "output_type": "pyout",
       "prompt_number": 3,
       "text": [
        "6.34"
       ]
      }
     ],
     "prompt_number": 3
    },
    {
     "cell_type": "markdown",
     "metadata": {},
     "source": [
      "### Question 3\n",
      "(5 points) Fabrice is looking to buy a new plug-in hybrid vehicle. The purchase price is \\$12,000\n",
      "more than a similar conventional model. However, he will receive a \\$7,500 federal tax credit \n",
      "that he will realize at the end of the year. He estimates that he will save \\$1,200 per year in \n",
      "gas over the conventional model; these cash outflows can be assumed to occur at the end of the \n",
      "year. The cost of capital (or interest rate) for Fabrice is 6%. How long will Fabrice have to \n",
      "own the vehicle to justify the additional expense over the conventional model?( i.e, What is the\n",
      "DISCOUNTED payback period in years? Discount future cash flows before calculating payback and \n",
      "round to a whole year.)"
     ]
    },
    {
     "cell_type": "code",
     "collapsed": false,
     "input": [
      "r              = 0.06  # 6%/yr\n",
      "hybrid_premium = 12e3  # $12,000 hybrid price premimum\n",
      "federal_credit = 7.5e3 # $7,500 one-time federal tax credit\n",
      "gas_savings    = 1.2e3 # $1,200/yr   \n",
      "year           = 0\n",
      "cost           = -hybrid_premium + fi.disc(federal_credit, 1, r) \n",
      "while (cost < 0):\n",
      "    year += 1\n",
      "    cost += fi.disc(gas_savings, year, r)\n",
      "\n",
      "year"
     ],
     "language": "python",
     "metadata": {},
     "outputs": [
      {
       "metadata": {},
       "output_type": "pyout",
       "prompt_number": 4,
       "text": [
        "5"
       ]
      }
     ],
     "prompt_number": 4
    },
    {
     "cell_type": "markdown",
     "metadata": {},
     "source": [
      "### Question 4\n",
      "(10 points) In high school Jeff often made money in the summer by mowing lawns in the \n",
      "neighborhood. He just finished his freshman year of college and, after taking a Business \n",
      "101 class, he has some ideas about how to scale up his lawn mowing operation. Previously, \n",
      "he had used his father's push mower, but he is thinking about getting a riding mower that \n",
      "will save time and allow him to do more lawns. He found a used, zero turn, riding mower on \n",
      "Craigslist for \\$1,200. He will also need a trailer to pull the mower behind his pickup; that \n",
      "will cost him an additional \\$600. With the new mower he can take on an additional 20 lawns \n",
      "per week at an average cash inflow of \\$20 per lawn he will receive at the end of each week. \n",
      "He has 14 weeks of summer in which to mow lawns. (For convenience, assume that the mower and \n",
      "trailer will have no value after Jeff is done with his work this summer.) The discount rate \n",
      "for Jeff is 10% (Keep in mind this is an annual rate). What is the Net Present Value of the \n",
      "mower/trailer project?"
     ]
    },
    {
     "cell_type": "code",
     "collapsed": false,
     "input": [
      "initial_investment = 1200+600\n",
      "income_per_week    = 20*20 \n",
      "weeks              = 14\n",
      "r                  = 0.1/52\n",
      "cf = [-initial_investment] + [income_per_week]*weeks\n",
      "npv = fi.npv(cf, r)\n",
      "\n",
      "fi.rnd(npv)"
     ],
     "language": "python",
     "metadata": {},
     "outputs": [
      {
       "metadata": {},
       "output_type": "pyout",
       "prompt_number": 5,
       "text": [
        "3720"
       ]
      }
     ],
     "prompt_number": 5
    },
    {
     "cell_type": "markdown",
     "metadata": {},
     "source": [
      "### Question 5\n",
      "(10 points) Da Feng is looking to refinance his home because rates have gone down since he \n",
      "purchased the house 5 years ago. He started with a 30-year fixed-rate mortgage of \\$240,000 at \n",
      "an annual rate of 6.75%. He has to make monthly payments. He can now get a 25-year fixed-rate \n",
      "mortgage at an annual rate of 5.5% on the remaining balance of his initial mortgage. This loan \n",
      "also requires monthly payments. In order to re-finance, Da Feng will need to pay closing costs \n",
      "of \\$4,500. These costs are out of pocket and cannot be rolled into the new mortgage. How much \n",
      "will refinancing save Da Feng? (i.e. What is the NPV of the refinancing decision?)"
     ]
    },
    {
     "cell_type": "code",
     "collapsed": false,
     "input": [
      "balance_old = 240000\n",
      "r_old       = 0.0675/12\n",
      "n_old       = 30*12\n",
      "pmt_old     = fi.pmt(balance_old, n_old, r_old)\n",
      "\n",
      "n_new       = 25*12\n",
      "r_new       = 0.055/12\n",
      "balance_new = fi.pv(pmt_old, n_new, r_old)\n",
      "cost_old    = fi.pv(pmt_old, n_new, r_new)\n",
      "cost_new    = balance_new + 4500 # closing costs\n",
      "savings     = cost_old - cost_new \n",
      "\n",
      "fi.rnd(savings)"
     ],
     "language": "python",
     "metadata": {},
     "outputs": [
      {
       "metadata": {},
       "output_type": "pyout",
       "prompt_number": 6,
       "text": [
        "23686"
       ]
      }
     ],
     "prompt_number": 6
    },
    {
     "cell_type": "markdown",
     "metadata": {},
     "source": [
      "### Question 6\n",
      "(10 points) The United States purchased Alaska in 1867 for \\$7.2M (where M stands for million). \n",
      "Assume that federal tax revenue from the state of Alaska (net federal expenditures) will be \n",
      "\\$50M in 2012 and that tax revenue started in 1868 and has steadily increased by 3% annually \n",
      "since then. Assume that the cost of capital (or interest rate) is 7%. What is the NPV of the \n",
      "Alaska purchase? (Hint: Try and imagine you are in 1867 looking forward.)"
     ]
    },
    {
     "cell_type": "code",
     "collapsed": false,
     "input": [
      "n                 = 2012 - 1867\n",
      "r                 = 0.07   # 7%/yr\n",
      "purchase_price    = 7.2e6  # $7.2M\n",
      "revenue_2012      = 50e6   # $50M\n",
      "revenue_inflation = 0.03   # 3%/yr\n",
      "revenue_stream    = [fi.disc(revenue_2012, x-1, revenue_inflation) for x in range(n,0,-1)] \n",
      "cf                = [-purchase_price] + revenue_stream\n",
      "npv               = fi.npv(cf, r)\n",
      "\n",
      "fi.rnd(npv)"
     ],
     "language": "python",
     "metadata": {},
     "outputs": [
      {
       "metadata": {},
       "output_type": "pyout",
       "prompt_number": 7,
       "text": [
        "10444699"
       ]
      }
     ],
     "prompt_number": 7
    },
    {
     "cell_type": "markdown",
     "metadata": {},
     "source": [
      "### Question 7\n",
      "(10 points) This question introduces you to the concept of an annuity with growth. The formula \n",
      "is given on p.3, equation (7), of the Note on Formulae, but I would encourage you to try doing \n",
      "it in Excel as well. (If the first cash flow is C, the next one will be C(1+g), and so on, \n",
      "where g is the growth rate in cash flow). As an example, the present value of an annuity that \n",
      "starts one year from now at \\$100, and grows at 5%, with the last cash flow in year 10, when the\n",
      "discount rate is 7%, is \\$860. Confirm this before attempting the problem; and use both the \n",
      "formula and excel. What is the NPV of of a new software project that costs \\$1,000,000 today, \n",
      "but has a cash flow of \\$200,000 in year 1 that grows at 3% per year till year 20? Similar\n",
      "investments earn 7.5% per year."
     ]
    },
    {
     "cell_type": "code",
     "collapsed": false,
     "input": [
      "assert fi.rnd(fi.pv(100, 10, r=0.07, g=0.05)) == 860, \"Confirmation failed!\"\n",
      "\n",
      "cost = 1e6   # $1,000,000\n",
      "earn = 2e5   # $200,000/yr\n",
      "g    = 0.03  # 3%/yr\n",
      "r    = 0.075 # 7.5%/yr\n",
      "n    = 20\n",
      "npv  = -cost + fi.pv(earn, n, r, g)\n",
      "\n",
      "fi.rnd(npv)"
     ],
     "language": "python",
     "metadata": {},
     "outputs": [
      {
       "metadata": {},
       "output_type": "pyout",
       "prompt_number": 8,
       "text": [
        "1554745"
       ]
      }
     ],
     "prompt_number": 8
    },
    {
     "cell_type": "markdown",
     "metadata": {},
     "source": [
      "### Question 8\n",
      "(15 points) Rebecca is 28 and considering going to graduate school so she sits down to \n",
      "calculate whether it is worth the large sum of money. She knows that her first year tuition \n",
      "will be \\$40,000, due at the beginning of the year (that is, right away). She estimates that \n",
      "the 2nd year of tuition would be \\$42,000. She also estimates that her living expenses above \n",
      "and beyond tuition will be \\$8,000 per year (assume this occurs at the end of the year) for the \n",
      "first year and will increase to \\$9000 the next year. She expects to earn \\$18,000 for an \n",
      "internship (Assume this inflow occurs one year from now). Were she to forgo graduate school she \n",
      "would be able to make \\$55,000 at the end of this year and expects that to grow 3% annually. With\n",
      "a graduate degree, she estimates that she will earn \\$85,000/year after graduation, again with \n",
      "annual 3% increases. Either way, she plans to work until 60 (she begins college right away). \n",
      "The interest/discount rate is 6%. What is the NPV of her graduate education? (Note: All cash \n",
      "flows except tuition payments occur at the end of the year.)\n"
     ]
    },
    {
     "cell_type": "code",
     "collapsed": false,
     "input": [
      "r                = 0.06     # 6%/yr discount rate\n",
      "current_age      = 28\n",
      "retirement_age   = 60\n",
      "working_years    = retirement_age - current_age\n",
      "yearly_raise     = 0.03     # 3%/yr\n",
      "\n",
      "# The PV of attending college\n",
      "sal_college      = 85e3     # $85,000/yr\n",
      "college_duration = 2        # 2 years\n",
      "college_costs_cf = [\n",
      " -40e3,                     # Tution = -$40,000\n",
      " -42e3 + -8e3 + 18e3,       # Tution = -$42,000 + Living Expenses = -$8,000 + Intership = $18,000 \n",
      " -9e3                       # Living Expenses = -$9,000\n",
      "]\n",
      "pv_college_cost  = fi.npv(college_costs_cf, r)\n",
      "pv_college_earn  = fi.disc(fi.pv(sal_college, working_years-college_duration, r, yearly_raise), college_duration, r)\n",
      "pv_college       = pv_college_cost + pv_college_earn\n",
      "\n",
      "# The oppurtunity cost (i.e. the PV of skipping college)\n",
      "sal_no_college   = 55e3     # $55,000/yr\n",
      "oppurtunity_cost = fi.pv(sal_no_college, working_years, r, yearly_raise)\n",
      "\n",
      "# The NPV of attending college\n",
      "npv              = pv_college - oppurtunity_cost\n",
      "\n",
      "fi.rnd(npv)"
     ],
     "language": "python",
     "metadata": {},
     "outputs": [
      {
       "metadata": {},
       "output_type": "pyout",
       "prompt_number": 9,
       "text": [
        "275996"
       ]
      }
     ],
     "prompt_number": 9
    },
    {
     "cell_type": "markdown",
     "metadata": {},
     "source": [
      "### Question 9\n",
      "(15 points) Reggie has just taken over management of a family business. He wants to make sure \n",
      "that it makes financial sense to keep the business going. He could sell the building today for \n",
      "\\$520,000. Keeping the business going will require a \\$50,000 renovation now and will yield an\n",
      "annual profit of \\$72,000 for the next 20 years (for simplicity assume these occur at year end, \n",
      "beginning one year from now). The discount/interest rate is 10%? What are the NPV and IRR of \n",
      "this decision?"
     ]
    },
    {
     "cell_type": "code",
     "collapsed": false,
     "input": [
      "r          = 0.1   # 10%/yr discount rate\n",
      "value      = 520e3 # $520,000\n",
      "renovation = 50e3  # $50,000\n",
      "cost       = value + renovation\n",
      "profit     = 72e3  # $72,000/yr\n",
      "n          = 20    # 20 years\n",
      "cf         = [-cost] + ([profit] * n)\n",
      "npv        = fi.npv(cf, r)\n",
      "irr        = fi.irr(cf)\n",
      "\n",
      "'(%d; %.2f%%)' % (fi.rnd(npv), round(irr*100, 2))"
     ],
     "language": "python",
     "metadata": {},
     "outputs": [
      {
       "metadata": {},
       "output_type": "pyout",
       "prompt_number": 10,
       "text": [
        "'(42977; 11.09%)'"
       ]
      }
     ],
     "prompt_number": 10
    },
    {
     "cell_type": "markdown",
     "metadata": {},
     "source": [
      "### Question 10\n",
      "(15 points) Sairah purchased an investment property for \\$350,000, 3 years ago. The after-tax \n",
      "cashfow of the property has been \\$35,000 per year to date, but market conditions have improved \n",
      "and Sairah expects the cashflow to improve to \\$42,000 per year for the next 25 years (assume \n",
      "these are year end cashflows). The annual cost of capital (or cap rate) for this area is 9%. \n",
      "What is the value of the property today?"
     ]
    },
    {
     "cell_type": "code",
     "collapsed": false,
     "input": [
      "# Approach:\n",
      "#  Setup a single cashflow (starting with purchase price, 3 years of \n",
      "#  cash flows (low), and the 25 years of cash flows(high)) and then \n",
      "#  compute the npv of that cf. Finally, move that npv forward three years to \n",
      "#  today.\n",
      "r              = 0.09             # 9%/yr => cap. rate\n",
      "purchase_price = 350e3            # $350,000\n",
      "n_init         = 3                # 3 years at low return\n",
      "n_rest         = 25               # 25 years at high return\n",
      "return_init    = 35e3             # $35,000/yr\n",
      "return_rest    = 42e3             # $42,000/yr\n",
      "cash_flow_init = [return_init] * n_init  \n",
      "cash_flow_rest = [return_rest] * n_rest  \n",
      "cf             = [-purchase_price] + cash_flow_init + cash_flow_rest\n",
      "npv            = fi.npv(cf, r)\n",
      "npv_today      = fi.comp(npv, n_init, r)\n",
      "\n",
      "fi.rnd(npv_today)"
     ],
     "language": "python",
     "metadata": {},
     "outputs": [
      {
       "metadata": {},
       "output_type": "pyout",
       "prompt_number": 11,
       "text": [
        "74022"
       ]
      }
     ],
     "prompt_number": 11
    }
   ],
   "metadata": {}
  }
 ]
}