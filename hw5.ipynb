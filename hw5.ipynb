{
 "metadata": {
  "name": "",
  "signature": "sha256:c212f464a3409cf915ac9a92288f283038066583812da58dc18c41c7f8cb6628"
 },
 "nbformat": 3,
 "nbformat_minor": 0,
 "worksheets": [
  {
   "cells": [
    {
     "cell_type": "markdown",
     "metadata": {},
     "source": [
      "# Assignment 5\n",
      "# "
     ]
    },
    {
     "cell_type": "code",
     "collapsed": false,
     "input": [
      "import finance_formulas as fi # import the basic finace functions\n",
      "ans = fi.Answers()            # list of computed answers"
     ],
     "language": "python",
     "metadata": {},
     "outputs": [],
     "prompt_number": 1
    },
    {
     "cell_type": "markdown",
     "metadata": {},
     "source": [
      "### Question 1\n",
      "(5 points) A pure discount (or zero-coupon) government bond is issued today that promises to pay \\$10,000 in 5 years. If the current interest rate on similar bonds is 3%, what is the price of the bond? (Recall that the compounding interval for bonds is 6 months.)\n",
      "* 8617\n",
      "* 8733\n",
      "* 9133\n",
      "* 9315"
     ]
    },
    {
     "cell_type": "code",
     "collapsed": false,
     "input": [
      "r     = 0.03/2  # 3% discount rate, but componded every 6 months\n",
      "face  = 10e3    # $10,000 face value\n",
      "n     = 5*2     # 5 years * 2 six-month-periods per year\n",
      "price = fi.disc(face, n, r)\n",
      "\n",
      "ans.add(fi.rnd(price))"
     ],
     "language": "python",
     "metadata": {},
     "outputs": [
      {
       "metadata": {},
       "output_type": "pyout",
       "prompt_number": 2,
       "text": [
        "8617"
       ]
      }
     ],
     "prompt_number": 2
    },
    {
     "cell_type": "markdown",
     "metadata": {},
     "source": [
      "###Question 2\n",
      "(5 point) For two otherwise identical coupon bonds, the one with the higher yield will have a higher price. \n",
      "* False\n",
      "* True"
     ]
    },
    {
     "cell_type": "code",
     "collapsed": false,
     "input": [
      "# Bond prices and yeilds are inversely related\n",
      "ans.add(False)"
     ],
     "language": "python",
     "metadata": {},
     "outputs": [
      {
       "metadata": {},
       "output_type": "pyout",
       "prompt_number": 3,
       "text": [
        "False"
       ]
      }
     ],
     "prompt_number": 3
    },
    {
     "cell_type": "markdown",
     "metadata": {},
     "source": [
      "###Question 3\n",
      "(5 points) For coupon bonds, the yield to maturity always equals the coupon rate. \n",
      "* False\n",
      "* True"
     ]
    },
    {
     "cell_type": "code",
     "collapsed": false,
     "input": [
      "# Coupon rate and YTM have no direct relationship\n",
      "ans.add(False)"
     ],
     "language": "python",
     "metadata": {},
     "outputs": [
      {
       "metadata": {},
       "output_type": "pyout",
       "prompt_number": 4,
       "text": [
        "False"
       ]
      }
     ],
     "prompt_number": 4
    },
    {
     "cell_type": "markdown",
     "metadata": {},
     "source": [
      "###Question 4\n",
      "(10 points) What is the yield to maturity (YTM) of a zero coupon bond with a face value of \\$1,000, current price of \\$950 and maturity of 2 years? (Recall that the compounding interval is 6 months and the YTM, like all interest rates, is reported on an annualized basis.) (Enter the answer with no more nor less than two decimal places, and leave off the % sign. For example, if your answer is 13.97% you should enter it as 13.97 NOT 0.14 nor 14)\n"
     ]
    },
    {
     "cell_type": "code",
     "collapsed": false,
     "input": [
      "face   = 1e3    # $1000 face value\n",
      "price  = 0.95e3 # $950 price\n",
      "n      = 2*2    # 2 years * 2 six-months-periods per year\n",
      "r      = (face/price)**(1/float(n)) - 1\n",
      "ytm    = 2*r*100\n",
      "\n",
      "ans.add(round(ytm,2))"
     ],
     "language": "python",
     "metadata": {},
     "outputs": [
      {
       "metadata": {},
       "output_type": "pyout",
       "prompt_number": 5,
       "text": [
        "2.58"
       ]
      }
     ],
     "prompt_number": 5
    },
    {
     "cell_type": "markdown",
     "metadata": {},
     "source": [
      "### Question 5\n",
      "(10 points) The government in the U.S. issues zero-coupon bonds up to one year maturity, but STRIPS are \"manufactured\" zero-coupon bonds with maturities up to 30 years. So, for example, a financial institution could first buy 200 30-year coupon bonds issued by the government that each pay \\$5 of coupon every six months. The institution could then sell the combined coupons totaling \\$1,000 as a separate zero-coupon bond with maturities ranging from 6 months up to 30 years. This is a financial innovation that occurred decades ago in the face of volatile inflation and an increased demand for long-term zero coupon government bonds. Given this information, analyze the following statement: \"The yield to maturity (YTM) of a long-term STRIP will typically be higher than that of a short-term STRIP.\"\n",
      "* True\n",
      "* False"
     ]
    },
    {
     "cell_type": "code",
     "collapsed": false,
     "input": [
      "# Yeilds in the furture are higher due to, among other things, interest rate risk.\n",
      "ans.add(True)"
     ],
     "language": "python",
     "metadata": {},
     "outputs": [
      {
       "metadata": {},
       "output_type": "pyout",
       "prompt_number": 6,
       "text": [
        "True"
       ]
      }
     ],
     "prompt_number": 6
    },
    {
     "cell_type": "markdown",
     "metadata": {},
     "source": [
      "###Question 6\n",
      "(10 points) Suppose Wolverine Steel Company wishes to issue a \\$100,000 bond with a maturity of 5 years to raise \\$79,720. The market requires a yield to maturity (YTM) of 8% for this company's borrowing/debt. How much coupon will the company have to pay every six months?(Enter just the number without the \\$ sign or a comma, and no decimals.)\n"
     ]
    },
    {
     "cell_type": "code",
     "collapsed": false,
     "input": [
      "face  = 100e3   # $100,000 face value\n",
      "price = 79.72e3 # $79,720 price\n",
      "n     = 5*2     # 5 years * 2 six-month-periods per year\n",
      "ytm   = 0.08    # 8% YTM\n",
      "r     = ytm/2   # 2 six-month-periods per year\n",
      "c     = fi.pmt(price, n, r, face)\n",
      "assert fi.pv(c,n,r,fv=face) == price, \"Bond Price doesn't match PV(Coupon+Face)\"\n",
      "\n",
      "ans.add(fi.rnd(c))"
     ],
     "language": "python",
     "metadata": {},
     "outputs": [
      {
       "metadata": {},
       "output_type": "pyout",
       "prompt_number": 7,
       "text": [
        "1500"
       ]
      }
     ],
     "prompt_number": 7
    },
    {
     "cell_type": "markdown",
     "metadata": {},
     "source": [
      "\n",
      "###Question 7\n",
      "(10 points) Suppose you have $10,000 to invest in either (a) Bond A, a 5-year zero-coupon; or (b) Bond B, a 10-year zero coupon bond. Both are risk free government bonds. You plan to hold the bond for a year and your only objective is to take on as little interest rate risk as possible. Which one should you choose?\n",
      "* Bond B.\n",
      "* Bond A.\n"
     ]
    },
    {
     "cell_type": "code",
     "collapsed": false,
     "input": [
      "# Interest rate risk increases with duration; hence the shorter duration bond\n",
      "ans.add('Bond A')"
     ],
     "language": "python",
     "metadata": {},
     "outputs": [
      {
       "metadata": {},
       "output_type": "pyout",
       "prompt_number": 8,
       "text": [
        "'Bond A'"
       ]
      }
     ],
     "prompt_number": 8
    },
    {
     "cell_type": "markdown",
     "metadata": {},
     "source": [
      "###Question 8\n",
      "(15 points) Three years ago, you invested in a zero coupon bond with a face value of \\$1,000 that had a YTM of 8% and 9 years left until maturity. Today, that bond has a YTM of 5%. Due to a financial emergency, you are forced to sell the bond. What is your capital gain/loss, which is defined as the dollar gain/loss relative to the price of the bond when you bought it? (Recall that the compounding interval is 6 months and the YTM, like all interest rates, is reported on an annualized basis.) (Enter just the number without the \\$ sign or a comma, and no decimals.)\n"
     ]
    },
    {
     "cell_type": "code",
     "collapsed": false,
     "input": [
      "# Three years ago (9 years to maturity):\n",
      "face = 1e3   # $1,000 face value\n",
      "ytm  = 0.08  # 8% YTM\n",
      "r    = ytm/2 # per period rate\n",
      "n    = 9 * 2 # 9 year duration * 2 six-month-periods per year\n",
      "p_0  = fi.pv(0, n, r, fv=face) # Purchase Price of Bond\n",
      "\n",
      "# Today (6 years to maturity):\n",
      "ytm  = 0.05  # 5% YTM\n",
      "r    = ytm/2\n",
      "n    = 6 * 2 # 6 year duration * 2 six-month-periods per year\n",
      "p_3  = fi.pv(0, n, r, fv=face) # Sales Price of Bond\n",
      "\n",
      "# Capital Gains = Sales Price - Purchase Price\n",
      "cap_gain = p_3 - p_0 \n",
      "\n",
      "ans.add(fi.rnd(cap_gain))"
     ],
     "language": "python",
     "metadata": {},
     "outputs": [
      {
       "metadata": {},
       "output_type": "pyout",
       "prompt_number": 9,
       "text": [
        "250"
       ]
      }
     ],
     "prompt_number": 9
    },
    {
     "cell_type": "markdown",
     "metadata": {},
     "source": [
      "###Question 9\n",
      "(15 points) Hard Spun Industries (HSI) has a project that it expects will produce a cash flow of \\$2.5 million in 12 years. To finance the project, the company needs to borrow \\$1.5 million today. The project will also produce intermediate cash flows, \\$150,000 of which HSI will use to service annual coupon payments (the coupons will actually be paid semi-annually as a payment of \\$75,000). Based on the risk of this investment, market participants will require a 10% yield. If HSI wishes a maturity of 12 years (matching the arrival of the lump sum cash flow), what does the face value of the bond have to be? (Recall that the compounding interval is 6 months and the YTM, like all interest rates, is reported on an annualized basis.) (Enter just the number without the \\$ sign or a comma, and no decimals.)\n"
     ]
    },
    {
     "cell_type": "code",
     "collapsed": false,
     "input": [
      "price = 1.5e6 # $1.5 million bond price\n",
      "ytm   = 0.1   # 10% YTM\n",
      "r     = ytm/2 # 2 six-month-periods per year\n",
      "c     = 75e3  # 75,000 coupon every six-months\n",
      "n     = 12*2  # 12 years * 2 six-month-periods per year\n",
      "\n",
      "# Solving for Face in: Price = PV(Coupon,n,r) + Discount(Face,n,r)\n",
      "face  = fi.comp(price-fi.pv(c,n,r), n, r) \n",
      "ans.add(fi.rnd(face))"
     ],
     "language": "python",
     "metadata": {},
     "outputs": [
      {
       "metadata": {},
       "output_type": "pyout",
       "prompt_number": 10,
       "text": [
        "1500000"
       ]
      }
     ],
     "prompt_number": 10
    },
    {
     "cell_type": "markdown",
     "metadata": {},
     "source": [
      "###Question 10\n",
      "(15 points) Two years ago, Motors, Inc. issued a corporate bond with an annual coupon of \\$4,000, paid at the rate of \\$2,000 every six months, and a maturity of 5 years. The par (face) value of the bond is \\$500,000. Recently, however, the company has run into some financial difficulty and has restructured its obligations.Today\u2019s coupon payment has already been paid, but the remaining coupon payments will be postponed until maturity. The postponed payments will accrue interest at an annual rate of 3% per year and will be paid as a lump sum amount at maturity along with the face value. The discount rate on the renegotiated bonds, now considered much riskier, has gone from 5% prior to the renegotiations to 10% per annum with the announcement of the restructuring. What is the price at which the new renegotiated bond should be selling today? (Recall that the compounding interval is 6 months and the YTM, like all interest rates, is reported on an annualized basis.) (Enter just the number without the \\$ sign or a comma, and no decimals.)\n"
     ]
    },
    {
     "cell_type": "code",
     "collapsed": false,
     "input": [
      "# Two years ago:\n",
      "c     = 2e3   # $2,000 coupon paid every six months\n",
      "n     = 5*2   # 5 year maturity * 2 six-month-periods per year\n",
      "face  = 500e3 # $500,000 face/par value\n",
      "ytm   = 0.05  # 5% YTM\n",
      "\n",
      "# Today:\n",
      "ytm   = 0.1  # 10% YTM\n",
      "r     = ytm/2\n",
      "n     = 3*2\n",
      "post  = fi.fv(c,n,r=0.03) # Postponed coupons @ r=3%\n",
      "price = fi.pv(0,n,r,fv=post+face)\n",
      "\n",
      "ans.add(fi.rnd(price))"
     ],
     "language": "python",
     "metadata": {},
     "outputs": [
      {
       "metadata": {},
       "output_type": "pyout",
       "prompt_number": 11,
       "text": [
        "382761"
       ]
      }
     ],
     "prompt_number": 11
    },
    {
     "cell_type": "code",
     "collapsed": false,
     "input": [
      "ans.display()"
     ],
     "language": "python",
     "metadata": {},
     "outputs": [
      {
       "output_type": "stream",
       "stream": "stdout",
       "text": [
        " 1. 8617\n",
        " 2. False\n",
        " 3. False\n",
        " 4. 2.58\n",
        " 5. True\n",
        " 6. 1500\n",
        " 7. Bond A\n",
        " 8. 250\n",
        " 9. 1500000\n",
        "10. 382761\n"
       ]
      }
     ],
     "prompt_number": 12
    }
   ],
   "metadata": {}
  }
 ]
}