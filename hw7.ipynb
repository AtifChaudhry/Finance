{
 "metadata": {
  "name": "",
  "signature": "sha256:aff5e7f40b074a3f89334c4f61668fbdf02dcd8b320ee663762543629c3c84ec"
 },
 "nbformat": 3,
 "nbformat_minor": 0,
 "worksheets": [
  {
   "cells": [
    {
     "cell_type": "markdown",
     "metadata": {},
     "source": [
      "# Assignment 7\n",
      "# "
     ]
    },
    {
     "cell_type": "code",
     "collapsed": false,
     "input": [
      "import finance_formulas as fi # import the basic finace functions\n",
      "ans = fi.Answers()            # list of computed answers"
     ],
     "language": "python",
     "metadata": {},
     "outputs": [],
     "prompt_number": 1
    },
    {
     "cell_type": "markdown",
     "metadata": {},
     "source": [
      "### Question 1\n",
      "(5 points) Shareholders of Exxon Oil Company face a variety of risks in holding its shares. If the economy falters, people tend to travel less and so there is less demand from the airlines industry for Exxon's fuels. This type of risk that Exxon's shareholders bear is\n",
      "* Systematic/Market Risk.\n",
      "* Specific/Idiosyncratic Risk."
     ]
    },
    {
     "cell_type": "code",
     "collapsed": false,
     "input": [
      "# Economic slowdown impacts many companies across sectors, hence this would be classified as a Systemic Risk.\n",
      "ans.add('Systematic/Market Risk.')"
     ],
     "language": "python",
     "metadata": {},
     "outputs": [
      {
       "metadata": {},
       "output_type": "pyout",
       "prompt_number": 2,
       "text": [
        "'Systematic/Market Risk.'"
       ]
      }
     ],
     "prompt_number": 2
    },
    {
     "cell_type": "markdown",
     "metadata": {},
     "source": [
      "###Question 2\n",
      "(5 points) Suppose there are three securities (X, Y, and Z) to choose from, and next year the economy will be in an expansion, normal, or recession state with probabilities 0.30, 0.35, and 0.35, respectively. The returns (%) on the securitiies in these states are as follows: Security X {expansion = +10, normal = +8, recession = +6}; Security Y {+25,+10,-10}; Security Z {+7.5,+7.5,+7.5}. If the investor is risk neutral and must choose whether to invest in Security Y or Security Z, which would she buy?\n",
      "* Security Z.\n",
      "* Security Y.\n",
      "* Indifferent between Y & Z."
     ]
    },
    {
     "cell_type": "code",
     "collapsed": false,
     "input": [
      "# States:  Expansion,  Normal, Recession\n",
      "p = [            0.3,    0.35,      0.35]  # State Probabilites \n",
      "y = [           25.0,    10.0,     -10.0]  # Returns: Security Y \n",
      "z = [            7.5,     7.5,       7.5]  # Returns: Security Z\n",
      "\n",
      "# Compute the mean of each security's returns\n",
      "m_y = sum(p_i * y_i for p_i, y_i in zip(p, y)) \n",
      "m_z = sum(p_i * z_i for p_i, z_i in zip(p, z))\n",
      "\n",
      "for i in [('Y',m_y), ('Z',m_z)]:\n",
      "    print \"Portfolio %s: Mean=%05.2f\" % i \n",
      "\n",
      "# If risk is ignored, we should pick security with the highest expected return\n",
      "if m_y == m_z:\n",
      "    choice = 'Indifferent between Y & Z.'\n",
      "elif m_y > m_x:\n",
      "    choice = 'Security Y.'\n",
      "else:\n",
      "    choice = 'Security Z.'\n",
      "\n",
      "ans.add(choice)"
     ],
     "language": "python",
     "metadata": {},
     "outputs": [
      {
       "output_type": "stream",
       "stream": "stdout",
       "text": [
        "Portfolio Y: Mean=07.50\n",
        "Portfolio Z: Mean=07.50\n"
       ]
      },
      {
       "metadata": {},
       "output_type": "pyout",
       "prompt_number": 3,
       "text": [
        "'Indifferent between Y & Z.'"
       ]
      }
     ],
     "prompt_number": 3
    },
    {
     "cell_type": "markdown",
     "metadata": {},
     "source": [
      "###Question 3\n",
      "(5 points) Suppose your dear old Grandfather approaches you for investment advice. He knows of your great training in finance and statistics and gives the following instructions: \"I have lived a long time and through many challenges. But the recent financial upheaval, with its ups and downs, is too much for me to bear. Just pick for me a portfolio with the least risk.\" Suppose there are portfolios (A, B, and C) to choose from, and next year the economy will be in an expansion, normal, or recession state with probabilities 0.40, 0.40, and 0.20 respectively. The returns (%) on the portfolios in these states are as follows: Portfolio A {expansion = +13, normal = +9, recession = +8.5}; Portfolio B {+10,+9,+5}; Portfolio C {+13,+8,+7.5}. Which investment best fits your grandfather's needs?\n",
      "* Portfolio C.\n",
      "* Portfolio B.\n",
      "* Portfolio A."
     ]
    },
    {
     "cell_type": "code",
     "collapsed": false,
     "input": [
      "# States:  Expansion,  Normal, Recession\n",
      "p = [           0.40,    0.40,      0.20]  # State Probabilites \n",
      "a = [           13.0,     9.0,       8.5]  # Returns: Portfolio A  \n",
      "b = [           10.0,     9.0,       5.0]  # Returns: Portfolio B \n",
      "c = [           13.0,     8.0,       7.5]  # Returns: Portfolio C \n",
      "\n",
      "# Compute the mean of each portfolio's returns\n",
      "m_a = sum(p_i*a_i for p_i, a_i in zip(p, a))\n",
      "m_b = sum(p_i*b_i for p_i, b_i in zip(p, b))\n",
      "m_c = sum(p_i*c_i for p_i, c_i in zip(p, c))\n",
      "\n",
      "# Compute the variance of each security's returns\n",
      "v_a = sum(p_i * (a_i-m_a)**2 for p_i, a_i in zip(p, a)) \n",
      "v_b = sum(p_i * (b_i-m_b)**2 for p_i, b_i in zip(p, b))\n",
      "v_c = sum(p_i * (c_i-m_c)**2 for p_i, c_i in zip(p, c))\n",
      "\n",
      "for i in [('A',m_a,v_a), ('B',m_b,v_b), ('C',m_c,v_c)]:\n",
      "    print \"Portfolio %s: Mean=%05.2f, Variance=%04.2f\" % i \n",
      "\n",
      "if v_a < min(v_b, v_c):\n",
      "    choice = 'A'\n",
      "elif v_b < v_c:\n",
      "    choice = 'B'\n",
      "else:\n",
      "    choice = 'C'\n",
      "\n",
      "ans.add('Portfolio %s.' % choice)"
     ],
     "language": "python",
     "metadata": {},
     "outputs": [
      {
       "output_type": "stream",
       "stream": "stdout",
       "text": [
        "Portfolio A: Mean=10.50, Variance=4.20\n",
        "Portfolio B: Mean=08.60, Variance=3.44\n",
        "Portfolio C: Mean=09.90, Variance=6.44\n"
       ]
      },
      {
       "metadata": {},
       "output_type": "pyout",
       "prompt_number": 4,
       "text": [
        "'Portfolio B.'"
       ]
      }
     ],
     "prompt_number": 4
    },
    {
     "cell_type": "markdown",
     "metadata": {},
     "source": [
      "###Question 4\n",
      "(10 points) The more idiosyncratic risk in the return of a security, the larger the risk premium investors will demand.\n",
      "* True\n",
      "* False."
     ]
    },
    {
     "cell_type": "code",
     "collapsed": false,
     "input": [
      "# Risk aversion implies that a higher risk demands a commensurate higher return \n",
      "ans.add(True)"
     ],
     "language": "python",
     "metadata": {},
     "outputs": [
      {
       "metadata": {},
       "output_type": "pyout",
       "prompt_number": 5,
       "text": [
        "True"
       ]
      }
     ],
     "prompt_number": 5
    },
    {
     "cell_type": "markdown",
     "metadata": {},
     "source": [
      "### Question 5\n",
      "(10) While computing covariances among the returns of several stocks can be complicated, the covariance of a stock's return with itself is always one.\n",
      "* False.\n",
      "* True."
     ]
    },
    {
     "cell_type": "code",
     "collapsed": false,
     "input": [
      "# By definition of covariance\n",
      "ans.add('True')"
     ],
     "language": "python",
     "metadata": {},
     "outputs": [
      {
       "metadata": {},
       "output_type": "pyout",
       "prompt_number": 6,
       "text": [
        "'True'"
       ]
      }
     ],
     "prompt_number": 6
    },
    {
     "cell_type": "markdown",
     "metadata": {},
     "source": [
      "###Question 6\n",
      "(10 points) As a CEO you wish to maximize the productivity of your workers. You are thinking about providing your employees with smartphones so they can be readily available to clients and increase sales. However, you are also concerned that your employees are just as likely to download apps that will distract them from their work, leading them to play games and update their social networking sites rather than focus on the job of pleasing clients. To test this you randomly select 6 employees for an experiment. You provide 3 with the new smart phone and the other 3 use their existing technology. The following chart shows their changes in sales. Based on this small sample, what is the correlation between smartphone and increase in sales? [Hint: It may help to use the spreadsheet function CORREL to calculate the correlation] (Enter the answer with no more nor less than two decimal places, and leave off the % sign. For example, if your answer is 13.97% you should enter it as 13.97 NOT 0.14 nor 14) {Anthony, Smartphone: Yes; change in sales 120; Kira, Smartphone No; Change in Sales 60; Michael, Smartphone No; Change in Sales 150; Scarlett., Smartphone Yes; Change in Sales 130; Pete, Smartphone Yes; Change in Sales 40; Angela, Smartphone No; Change in Sales 60.} "
     ]
    },
    {
     "cell_type": "code",
     "collapsed": false,
     "input": [
      "from math import sqrt \n",
      "\n",
      "# The observations; variable: (X = smartphone, Y = sales)\n",
      "obs = [ #  X,   Y\n",
      "          (1, 120), # Anthony,  Smartphone Yes; Change in sales 120\n",
      "          (0,  60), # Kira,     Smartphone  No; Change in Sales  60\n",
      "          (0, 150), # Michael,  Smartphone  No; Change in Sales 150\n",
      "          (1, 130), # Scarlett, Smartphone Yes; Change in Sales 130\n",
      "          (1,  40), # Pete,     Smartphone Yes; Change in Sales  40\n",
      "          (0,  60)] # Angela,   Smartphone  No; Change in Sales  60\n",
      "\n",
      "# Number of observations\n",
      "n = float(len(obs)) \n",
      "\n",
      "# Mean of both variables \n",
      "m_x = sum(x_i for x_i, _ in obs) / n\n",
      "m_y = sum(y_i for _, y_i in obs) / n\n",
      "\n",
      "# Standard Deviation of both variable\n",
      "v_x = sum((x_i - m_x)**2 for x_i, _ in obs) / (n-1); s_x = sqrt(v_x)\n",
      "v_y = sum((y_i - m_y)**2 for _, y_i in obs) / (n-1); s_y = sqrt(v_y)\n",
      "\n",
      "# Correlation between the two variables\n",
      "cor = sum(((x_i - m_x)/s_x) * ((y_i - m_y)/s_y) for x_i, y_i in obs) / (n-1)\n",
      "\n",
      "ans.add(round(cor, 2))"
     ],
     "language": "python",
     "metadata": {},
     "outputs": [
      {
       "metadata": {},
       "output_type": "pyout",
       "prompt_number": 7,
       "text": [
        "0.08"
       ]
      }
     ],
     "prompt_number": 7
    },
    {
     "cell_type": "markdown",
     "metadata": {},
     "source": [
      "###Question 7\n",
      "(10 points) It is well known that Investors generally do not like to bear risk. For two otherwise identical corporate bonds, the one with more idiosyncratic risk should have a price that is\n",
      "* Lower.\n",
      "* The same.\n",
      "* Higher."
     ]
    },
    {
     "cell_type": "code",
     "collapsed": false,
     "input": [
      "# Higher risk demands a high risk premium\n",
      "ans.add('Higher.')"
     ],
     "language": "python",
     "metadata": {},
     "outputs": [
      {
       "metadata": {},
       "output_type": "pyout",
       "prompt_number": 8,
       "text": [
        "'Higher.'"
       ]
      }
     ],
     "prompt_number": 8
    },
    {
     "cell_type": "markdown",
     "metadata": {},
     "source": [
      "###Question 8\n",
      "(15 points) Suppose your client is risk-averse but can invest in only one of the three securities, A, B, or C, in an uncertain world characterized as follows. Next year the economy will be in an expansion, normal, or recession state with probabilities 0.40, 0.40, and 0.20, respectively. The returns (%) on the three securities in these states are as follows: Security A {expansion = +12, normal = +10, recession = +7}; Security B {+11, +9, +8}; Security C {+12, +8, +7.5}. Which security can you rule out, that is, you will not advise your client to invest in it?\n",
      "* Security C.\n",
      "* None of the securities.\n",
      "* Security A.\n",
      "* Security B."
     ]
    },
    {
     "cell_type": "code",
     "collapsed": false,
     "input": [
      "# States:  Expansion,  Normal, Recession\n",
      "p = [           0.40,    0.40,      0.20]  # State Probabilites \n",
      "a = [           12.0,    10.0,       7.0]  # Returns: Security A \n",
      "b = [           11.0,     9.0,       8.0]  # Returns: Security B \n",
      "c = [           12.0,     8.0,       7.5]  # Returns: Security C \n",
      "\n",
      "# Compute the mean of each security's returns\n",
      "m_a = sum(p_i*a_i for p_i, a_i in zip(p, a))\n",
      "m_b = sum(p_i*b_i for p_i, b_i in zip(p, b))\n",
      "m_c = sum(p_i*c_i for p_i, c_i in zip(p, c))\n",
      "\n",
      "# Compute the variance of each security's returns\n",
      "v_a = sum(p_i * (a_i-m_a)**2 for p_i, a_i in zip(p, a)) \n",
      "v_b = sum(p_i * (b_i-m_b)**2 for p_i, b_i in zip(p, b))\n",
      "v_c = sum(p_i * (c_i-m_c)**2 for p_i, c_i in zip(p, c))\n",
      "\n",
      "for i in [('A',m_a,v_a), ('B',m_b,v_b), ('C',m_c,v_c)]:\n",
      "    print \"Security %s: Mean=%05.2f, Variance=%04.2f\" % i \n",
      "\n",
      "# If a security has the lowest expected return and highest variance (i.e risk) then reject it.\n",
      "if   m_a <= min(m_a, m_b, m_c) and v_a >= max(v_a, v_b, v_c):\n",
      "    choice = 'Security A.'\n",
      "elif m_b <= min(m_a, m_b, m_c) and v_b >= max(v_a, v_b, v_c):\n",
      "    choice = 'Security B.'\n",
      "elif m_c <= min(m_a, m_b, m_c) and v_c >= max(v_a, v_b, v_c):\n",
      "    choice = 'Security C.'\n",
      "else:\n",
      "    choice = 'None of the securities.'\n",
      "    \n",
      "ans.add(choice)"
     ],
     "language": "python",
     "metadata": {},
     "outputs": [
      {
       "output_type": "stream",
       "stream": "stdout",
       "text": [
        "Security A: Mean=10.20, Variance=3.36\n",
        "Security B: Mean=09.60, Variance=1.44\n",
        "Security C: Mean=09.50, Variance=4.20\n"
       ]
      },
      {
       "metadata": {},
       "output_type": "pyout",
       "prompt_number": 9,
       "text": [
        "'Security C.'"
       ]
      }
     ],
     "prompt_number": 9
    },
    {
     "cell_type": "markdown",
     "metadata": {},
     "source": [
      "###Question 9\n",
      "(15 points) You have just taken over as a fund manager at a brokerage firm. Your assistant, Thomas, is briefing you on the current portfolio and states \"We have too much of our portfolio in Alpha. We should probably move some of those funds into Gamma so we can achieve better diversification.\" Is he right? [Hint: Feel free to use spreadsheet statistical functions.] Here is the data on all three stocks. Assume, for convenience, that all three securities do not pay dividends. Alpha, Current Price 40; Current Weight 80%; Next Year's Price: Expansion 48, Normal 44, Recession 36; Beta, Current Price 27.50; Current Weight 20%; Next Year's Price: Expansion 27.50, Normal 26, Recession 25; Gamma, Current Price 15; Current Weight 0%; Next Year's Price: Expansion 18, Normal 16.50, Recession 13.50.\n",
      "* Yes.\n",
      "* It depends.\n",
      "* No."
     ]
    },
    {
     "cell_type": "code",
     "collapsed": false,
     "input": [
      "# Alpha: Current Price, Weight, Next Year's Possible Returns\n",
      "p0_a = 40\n",
      "a = [round((p1 - p0_a)*100/p0_a,2) for p1 in [48.0, 44.0, 36.0]]\n",
      "print 'Alpha Returns(%):', a\n",
      "\n",
      "# Gamma: Current Price, Weight, Next Year's Possible Returns\n",
      "p0_c = 15\n",
      "c = [round((p1 - p0_c)*100/p0_c,2) for p1 in [18.0, 16.5, 13.5]]\n",
      "print 'Gamma Returns(%):', c\n",
      "\n",
      "# If the returns of Alpha and Gamma are the same (in each of the three \n",
      "# possible future states) then the mean and variance of next year's\n",
      "# returns will be unchanged by replacing some of Alpha with Gamma \n",
      "# regardless of the probilities assigned for each of the three states.\n",
      "ans.add('No.' if (a == c) else 'It depends.')"
     ],
     "language": "python",
     "metadata": {},
     "outputs": [
      {
       "output_type": "stream",
       "stream": "stdout",
       "text": [
        "Alpha Returns(%): [20.0, 10.0, -10.0]\n",
        "Gamma Returns(%): [20.0, 10.0, -10.0]\n"
       ]
      },
      {
       "metadata": {},
       "output_type": "pyout",
       "prompt_number": 10,
       "text": [
        "'No.'"
       ]
      }
     ],
     "prompt_number": 10
    },
    {
     "cell_type": "markdown",
     "metadata": {},
     "source": [
      "###Question 10\n",
      "(15 points) Suppose there are two mortgage bankers. Banker 1 has two \\$500,000 mortgages to sell. The borrowers live on opposite sides of the country and face an independent probability of default of 6%, with the banker able to salvage 40% of the mortgage value in case of default. Banker 2 also has two \\$500,000 mortgages to sell, but Banker 2's borrowers live on the same street, have the same job security and income. Put differently, the fates and thus solvency of Banker 2's borrowers move in lock step. They have a probability of defaulting of 5%, with the banker able to salvage 40% of the mortgage value in case of default. Both Bankers plan to sell their respective mortgages as a bundle in a mortgage-backed security (MBS) (i.e., as a portfolio). Which of the following is correct?\n",
      "* Banker 1's MBS has a higher expected return and less risk.\n",
      "* Banker 2's MBS has a higher expected return and more risk.\n",
      "* Banker 2's MBS has more risk, but the expected returns on both MBS are the same.\n",
      "* Banker 2's MBS has a higher expected return and less risk.\n",
      "* Banker 1's MBS has more risk, but the expected returns on both MBS are the same.\n",
      "* Banker 1's MBS has a higher expected return and more risk."
     ]
    },
    {
     "cell_type": "code",
     "collapsed": false,
     "input": [
      "loan = 1.0   # 100% of loan amount recovered\n",
      "slvg = 0.4   # 40% of loan amount salvaged (default)\n",
      "\n",
      "# Returns: There are four possibilites for the returns \n",
      "returns = [(loan + loan)/(2*loan), # 1. Loan1=OK      and Loan2=OK\n",
      "           (loan + slvg)/(2*loan), # 2. Loan1=OK      and Loan2=Default\n",
      "           (slvg + loan)/(2*loan), # 3. Loan1=Default and Loan2=OK\n",
      "           (slvg + slvg)/(2*loan)] # 4. Loan1=Default and Loan2=Default\n",
      "\n",
      "# Banker 1\n",
      "prob_df_1 = 0.06                   # Probability of a single mortgage default\n",
      "prob_ok_1 = 1 - prob_df_1          # Probability of a single mortgage paying\n",
      "outcome_1 = [prob_ok_1*prob_ok_1,  # 1. Loan1=OK      and Loan2=OK\n",
      "             prob_ok_1*prob_df_1,  # 2. Loan1=OK      and Loan2=Default\n",
      "             prob_df_1*prob_ok_1,  # 3. Loan1=Default and Loan2=OK\n",
      "             prob_df_1*prob_df_1]  # 4. Loan1=Default and Loan2=Default\n",
      "mean_1 = sum(p_i * r_i               for p_i, r_i in zip(outcome_1, returns))\n",
      "var_1  = sum(p_i * (r_i - mean_1)**2 for p_i, r_i in zip(outcome_1, returns))\n",
      "print 'Bank %d: Mean=%0.2f, Variance=%0.2f' % (1, mean_1, var_1)\n",
      "\n",
      "# Banker 2\n",
      "prob_df_2 = 0.05                   # Probability of a single mortgage default\n",
      "prob_ok_2 = 1 - prob_df_2          # Probability of a single mortgage paying\n",
      "outcome_2 = [prob_ok_2,            # 1. Loan1=OK      and Loan2=OK\n",
      "             0,                    # 2. Loan1=OK      and Loan2=Default\n",
      "             0,                    # 3. Loan1=Default and Loan2=OK\n",
      "             prob_df_2]            # 4. Loan1=Default and Loan2=Default\n",
      "mean_2 = sum(p_i * r_i               for p_i, r_i in zip(outcome_2, returns))\n",
      "var_2  = sum(p_i * (r_i - mean_2)**2 for p_i, r_i in zip(outcome_2, returns))\n",
      "print 'Bank %d: Mean=%0.2f, Variance=%0.2f' % (2, mean_2, var_2)\n",
      "\n",
      "# Compare returns of Bank 1 and 2\n",
      "if   (mean_1 > mean_2):\n",
      "    if   (var_1 < var_2):\n",
      "        choice = \"Banker 1's MBS has a higher expected return and less risk.\"\n",
      "    elif (var_1 > var_2):\n",
      "        choice = \"Banker 1's MBS has a higher expected return and more risk.\"\n",
      "    else:\n",
      "        choice = \"Banker 1's MBS has a higher expected return, but the risk is the same.\"\n",
      "elif (mean_1 < mean_2):\n",
      "    if   (var_1 < var_2):\n",
      "        choice = \"Banker 2's MBS has a higher expected return and more risk.\"\n",
      "    elif (var_1 > var_2):\n",
      "        choice = \"Banker 2's MBS has a higher expected return and less risk.\"\n",
      "    else:\n",
      "        choice = \"Banker 2's MBS has a higher expected return, but the risk is the same.\"\n",
      "else:\n",
      "    if   (var_1 < var_2):\n",
      "        choice = \"Banker 2's MBS has more risk, but the expected returns on both MBS are the same.\"\n",
      "    elif (var_1 > var_2):\n",
      "        choice = \"Banker 1's MBS has more risk, but the expected returns on both MBS are the same.\"\n",
      "    else:\n",
      "        choice = \"The expected return and risk on both MBS are the same.\"\n",
      "\n",
      "ans.add(choice)"
     ],
     "language": "python",
     "metadata": {},
     "outputs": [
      {
       "output_type": "stream",
       "stream": "stdout",
       "text": [
        "Bank 1: Mean=0.96, Variance=0.01\n",
        "Bank 2: Mean=0.97, Variance=0.02\n"
       ]
      },
      {
       "metadata": {},
       "output_type": "pyout",
       "prompt_number": 11,
       "text": [
        "\"Banker 2's MBS has a higher expected return and more risk.\""
       ]
      }
     ],
     "prompt_number": 11
    },
    {
     "cell_type": "markdown",
     "metadata": {},
     "source": [
      "### Extra Question (5)\n",
      "(10 points) We often want to find investments that perform well\n",
      "when other parts of our portfolio are struggling. When considering stocks to\n",
      "add to the portfolio, those with a correlation closer to zero with our\n",
      "existing portfolio will most effectively help us diversify. \n",
      "* True. \n",
      "* False."
     ]
    },
    {
     "cell_type": "code",
     "collapsed": false,
     "input": [
      "# We want to add investments which a negative correlation\n",
      "ans.add(False)"
     ],
     "language": "python",
     "metadata": {},
     "outputs": [
      {
       "metadata": {},
       "output_type": "pyout",
       "prompt_number": 12,
       "text": [
        "False"
       ]
      }
     ],
     "prompt_number": 12
    },
    {
     "cell_type": "markdown",
     "metadata": {},
     "source": [
      "## Answers"
     ]
    },
    {
     "cell_type": "code",
     "collapsed": false,
     "input": [
      "ans.display()"
     ],
     "language": "python",
     "metadata": {},
     "outputs": [
      {
       "output_type": "stream",
       "stream": "stdout",
       "text": [
        " 1. Systematic/Market Risk.\n",
        " 2. Indifferent between Y & Z.\n",
        " 3. Portfolio B.\n",
        " 4. True\n",
        " 5. True\n",
        " 6. 0.08\n",
        " 7. Higher.\n",
        " 8. Security C.\n",
        " 9. No.\n",
        "10. Banker 2's MBS has a higher expected return and more risk.\n",
        "11. False\n"
       ]
      }
     ],
     "prompt_number": 13
    }
   ],
   "metadata": {}
  }
 ]
}