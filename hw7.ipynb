{
 "metadata": {
  "name": "",
  "signature": "sha256:464c1cd5888a8c905f37af7c1639997f426b46341523f5aaaab1e77b168214d8"
 },
 "nbformat": 3,
 "nbformat_minor": 0,
 "worksheets": [
  {
   "cells": [
    {
     "cell_type": "markdown",
     "metadata": {},
     "source": [
      "# Assignment 7\n",
      "# "
     ]
    },
    {
     "cell_type": "code",
     "collapsed": false,
     "input": [
      "import finance_formulas as fi # import the basic finace functions\n",
      "ans = fi.Answers()            # list of computed answers"
     ],
     "language": "python",
     "metadata": {},
     "outputs": [],
     "prompt_number": 1
    },
    {
     "cell_type": "markdown",
     "metadata": {},
     "source": [
      "### Question 1\n",
      "(5 points) Shareholders of Exxon Oil Company face a variety of risks in holding its shares. If the economy falters, people tend to travel less and so there is less demand from the airlines industry for Exxon's fuels. This type of risk that Exxon's shareholders bear is\n",
      "* Systematic/Market Risk.\n",
      "* Specific/Idiosyncratic Risk."
     ]
    },
    {
     "cell_type": "code",
     "collapsed": false,
     "input": [
      "ans.add('Missing')"
     ],
     "language": "python",
     "metadata": {},
     "outputs": [
      {
       "metadata": {},
       "output_type": "pyout",
       "prompt_number": 2,
       "text": [
        "'Missing'"
       ]
      }
     ],
     "prompt_number": 2
    },
    {
     "cell_type": "markdown",
     "metadata": {},
     "source": [
      "###Question 2\n",
      "(5 points) Suppose there are three securities (X, Y, and Z) to choose from, and next year the economy will be in an expansion, normal, or recession state with probabilities 0.30, 0.35, and 0.35, respectively. The returns (%) on the securitiies in these states are as follows: Security X {expansion = +10, normal = +8, recession = +6}; Security Y {+25,+10,-10}; Security Z {+7.5,+7.5,+7.5}. If the investor is risk neutral and must choose whether to invest in Security Y or Security Z, which would she buy?\n",
      "* Security Z.\n",
      "* Security Y.\n",
      "* Indifferent between Y & Z."
     ]
    },
    {
     "cell_type": "code",
     "collapsed": false,
     "input": [
      "ans.add('Missing')"
     ],
     "language": "python",
     "metadata": {},
     "outputs": [
      {
       "metadata": {},
       "output_type": "pyout",
       "prompt_number": 3,
       "text": [
        "'Missing'"
       ]
      }
     ],
     "prompt_number": 3
    },
    {
     "cell_type": "markdown",
     "metadata": {},
     "source": [
      "###Question 3\n",
      "(5 points) Suppose your dear old Grandfather approaches you for investment advice. He knows of your great training in finance and statistics and gives the following instructions: \"I have lived a long time and through many challenges. But the recent financial upheaval, with its ups and downs, is too much for me to bear. Just pick for me a portfolio with the least risk.\" Suppose there are portfolios (A, B, and C) to choose from, and next year the economy will be in an expansion, normal, or recession state with probabilities 0.40, 0.40, and 0.20 respectively. The returns (%) on the portfolios in these states are as follows: Portfolio A {expansion = +13, normal = +9, recession = +8.5}; Portfolio B {+10,+9,+5}; Portfolio C {+13,+8,+7.5}. Which investment best fits your grandfather's needs?\n",
      "* Portfolio C.\n",
      "* Portfolio B.\n",
      "* Portfolio A."
     ]
    },
    {
     "cell_type": "code",
     "collapsed": false,
     "input": [
      "ans.add('Missing')"
     ],
     "language": "python",
     "metadata": {},
     "outputs": [
      {
       "metadata": {},
       "output_type": "pyout",
       "prompt_number": 4,
       "text": [
        "'Missing'"
       ]
      }
     ],
     "prompt_number": 4
    },
    {
     "cell_type": "markdown",
     "metadata": {},
     "source": [
      "###Question 4\n",
      "(10 points) The more idiosyncratic risk in the return of a security, the larger the risk premium investors will demand.\n",
      "* True\n",
      "* False."
     ]
    },
    {
     "cell_type": "code",
     "collapsed": false,
     "input": [
      "ans.add('Missing')"
     ],
     "language": "python",
     "metadata": {},
     "outputs": [
      {
       "metadata": {},
       "output_type": "pyout",
       "prompt_number": 5,
       "text": [
        "'Missing'"
       ]
      }
     ],
     "prompt_number": 5
    },
    {
     "cell_type": "markdown",
     "metadata": {},
     "source": [
      "### Question 5\n",
      "(10) While computing covariances among the returns of several stocks can be complicated, the covariance of a stock's return with itself is always one.\n",
      "* False.\n",
      "* True."
     ]
    },
    {
     "cell_type": "code",
     "collapsed": false,
     "input": [
      "ans.add('Missing')"
     ],
     "language": "python",
     "metadata": {},
     "outputs": [
      {
       "metadata": {},
       "output_type": "pyout",
       "prompt_number": 6,
       "text": [
        "'Missing'"
       ]
      }
     ],
     "prompt_number": 6
    },
    {
     "cell_type": "markdown",
     "metadata": {},
     "source": [
      "###Question 6\n",
      "(10 points) As a CEO you wish to maximize the productivity of your workers. You are thinking about providing your employees with smartphones so they can be readily available to clients and increase sales. However, you are also concerned that your employees are just as likely to download apps that will distract them from their work, leading them to play games and update their social networking sites rather than focus on the job of pleasing clients. To test this you randomly select 6 employees for an experiment. You provide 3 with the new smart phone and the other 3 use their existing technology. The following chart shows their changes in sales. Based on this small sample, what is the correlation between smartphone and increase in sales? [Hint: It may help to use the spreadsheet function CORREL to calculate the correlation] (Enter the answer with no more nor less than two decimal places, and leave off the % sign. For example, if your answer is 13.97% you should enter it as 13.97 NOT 0.14 nor 14) {Anthony, Smartphone: Yes; change in sales 120; Kira, Smartphone No; Change in Sales 60; Michael, Smartphone No; Change in Sales 150; Scarlett., Smartphone Yes; Change in Sales 130; Pete, Smartphone Yes; Change in Sales 40; Angela, Smartphone No; Change in Sales 60.} "
     ]
    },
    {
     "cell_type": "code",
     "collapsed": false,
     "input": [
      "ans.add('Missing')"
     ],
     "language": "python",
     "metadata": {},
     "outputs": [
      {
       "metadata": {},
       "output_type": "pyout",
       "prompt_number": 7,
       "text": [
        "'Missing'"
       ]
      }
     ],
     "prompt_number": 7
    },
    {
     "cell_type": "markdown",
     "metadata": {},
     "source": [
      "###Question 7\n",
      "(10 points) It is well known that Investors generally do not like to bear risk. For two otherwise identical corporate bonds, the one with more idiosyncratic risk should have a price that is\n",
      "* Lower.\n",
      "* The same.\n",
      "* Higher."
     ]
    },
    {
     "cell_type": "code",
     "collapsed": false,
     "input": [
      "ans.add('Missing')"
     ],
     "language": "python",
     "metadata": {},
     "outputs": [
      {
       "metadata": {},
       "output_type": "pyout",
       "prompt_number": 8,
       "text": [
        "'Missing'"
       ]
      }
     ],
     "prompt_number": 8
    },
    {
     "cell_type": "markdown",
     "metadata": {},
     "source": [
      "###Question 8\n",
      "(15 points) Suppose your client is risk-averse but can invest in only one of the three securities, A, B, or C, in an uncertain world characterized as follows. Next year the economy will be in an expansion, normal, or recession state with probabilities 0.40, 0.40, and 0.20, respectively. The returns (%) on the three securities in these states are as follows: Security A {expansion = +12, normal = +10, recession = +7}; Security B {+11, +9, +8}; Security C {+12, +8, +7.5}. Which security can you rule out, that is, you will not advise your client to invest in it?\n",
      "* Security C.\n",
      "* None of the securities.\n",
      "* Security A.\n",
      "* Security B."
     ]
    },
    {
     "cell_type": "code",
     "collapsed": false,
     "input": [
      "ans.add('Missing')"
     ],
     "language": "python",
     "metadata": {},
     "outputs": [
      {
       "metadata": {},
       "output_type": "pyout",
       "prompt_number": 9,
       "text": [
        "'Missing'"
       ]
      }
     ],
     "prompt_number": 9
    },
    {
     "cell_type": "markdown",
     "metadata": {},
     "source": [
      "###Question 9\n",
      "(15 points) You have just taken over as a fund manager at a brokerage firm. Your assistant, Thomas, is briefing you on the current portfolio and states \"We have too much of our portfolio in Alpha. We should probably move some of those funds into Gamma so we can achieve better diversification.\" Is he right? [Hint: Feel free to use spreadsheet statistical functions.] Here is the data on all three stocks. Assume, for convenience, that all three securities do not pay dividends. Alpha, Current Price 40; Current Weight 80%; Next Year's Price: Expansion 48, Normal 44, Recession 36; Beta, Current Price 27.50; Current Weight 20%; Next Year's Price: Expansion 27.50, Normal 26, Recession 25; Gamma, Current Price 15; Current Weight 0%; Next Year's Price: Expansion 18, Normal 16.50, Recession 13.50.\n",
      "* Yes.\n",
      "* It depends.\n",
      "* No."
     ]
    },
    {
     "cell_type": "code",
     "collapsed": false,
     "input": [
      "ans.add('Missing')"
     ],
     "language": "python",
     "metadata": {},
     "outputs": [
      {
       "metadata": {},
       "output_type": "pyout",
       "prompt_number": 10,
       "text": [
        "'Missing'"
       ]
      }
     ],
     "prompt_number": 10
    },
    {
     "cell_type": "markdown",
     "metadata": {},
     "source": [
      "###Question 10\n",
      "(15 points) Suppose there are two mortgage bankers. Banker 1 has two \\$500,000 mortgages to sell. The borrowers live on opposite sides of the country and face an independent probability of default of 6%, with the banker able to salvage 40% of the mortgage value in case of default. Banker 2 also has two \\$500,000 mortgages to sell, but Banker 2's borrowers live on the same street, have the same job security and income. Put differently, the fates and thus solvency of Banker 2's borrowers move in lock step. They have a probability of defaulting of 5%, with the banker able to salvage 40% of the mortgage value in case of default. Both Bankers plan to sell their respective mortgages as a bundle in a mortgage-backed security (MBS) (i.e., as a portfolio). Which of the following is correct?\n",
      "* Banker 1's MBS has a higher expected return and less risk.\n",
      "* Banker 2's MBS has a higher expected return and more risk.\n",
      "* Banker 2's MBS has more risk, but the expected returns on both MBS are the same.\n",
      "* Banker 2's MBS has a higher expected return and less risk.\n",
      "* Banker 1's MBS has more risk, but the expected returns on both MBS are the same.\n",
      "* Banker 1's MBS has a higher expected return and more risk."
     ]
    },
    {
     "cell_type": "code",
     "collapsed": false,
     "input": [
      "ans.add('Missing')"
     ],
     "language": "python",
     "metadata": {},
     "outputs": [
      {
       "metadata": {},
       "output_type": "pyout",
       "prompt_number": 11,
       "text": [
        "'Missing'"
       ]
      }
     ],
     "prompt_number": 11
    },
    {
     "cell_type": "markdown",
     "metadata": {},
     "source": [
      "### Extra Question (5)\n",
      "(10 points) We often want to find investments that perform well\n",
      "when other parts of our portfolio are struggling. When considering stocks to\n",
      "add to the portfolio, those with a correlation closer to zero with our\n",
      "existing portfolio will most effectively help us diversify. \n",
      "* True. \n",
      "* False."
     ]
    },
    {
     "cell_type": "code",
     "collapsed": false,
     "input": [
      "ans.add('Missing')"
     ],
     "language": "python",
     "metadata": {},
     "outputs": [
      {
       "metadata": {},
       "output_type": "pyout",
       "prompt_number": 12,
       "text": [
        "'Missing'"
       ]
      }
     ],
     "prompt_number": 12
    },
    {
     "cell_type": "code",
     "collapsed": false,
     "input": [
      "ans.display()"
     ],
     "language": "python",
     "metadata": {},
     "outputs": [
      {
       "output_type": "stream",
       "stream": "stdout",
       "text": [
        " 1. Missing\n",
        " 2. Missing\n",
        " 3. Missing\n",
        " 4. Missing\n",
        " 5. Missing\n",
        " 6. Missing\n",
        " 7. Missing\n",
        " 8. Missing\n",
        " 9. Missing\n",
        "10. Missing\n",
        "11. Missing\n"
       ]
      }
     ],
     "prompt_number": 13
    }
   ],
   "metadata": {}
  }
 ]
}