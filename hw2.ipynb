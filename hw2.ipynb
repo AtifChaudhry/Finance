{
 "metadata": {
  "name": "",
  "signature": "sha256:5d77c96c86460bc6f9dc724ec5eaddda05365704c28911ee1bb6e0448404be5f"
 },
 "nbformat": 3,
 "nbformat_minor": 0,
 "worksheets": [
  {
   "cells": [
    {
     "cell_type": "code",
     "collapsed": false,
     "input": [
      "import finance_formulas as fi # import the basic finace functions"
     ],
     "language": "python",
     "metadata": {},
     "outputs": [],
     "prompt_number": 1
    },
    {
     "cell_type": "markdown",
     "metadata": {},
     "source": [
      "# Assignment 2"
     ]
    },
    {
     "cell_type": "markdown",
     "metadata": {},
     "source": [
      "# Question 1\n",
      "(5 points) Carlos goes to the bank to take out a personal loan. The stated annual \n",
      "interest rate is 12%, but interest is compounded monthly and he will make monthly \n",
      "payments. The effective annual interest rate (EAR) of the loan is less than 12%. "
     ]
    },
    {
     "cell_type": "code",
     "collapsed": false,
     "input": [
      "False"
     ],
     "language": "python",
     "metadata": {},
     "outputs": [
      {
       "metadata": {},
       "output_type": "pyout",
       "prompt_number": 2,
       "text": [
        "False"
       ]
      }
     ],
     "prompt_number": 2
    },
    {
     "cell_type": "markdown",
     "metadata": {},
     "source": [
      "# Question 2\n",
      "(5 points) Gloria is 35 and trying to plan for retirement. She has put a budget\n",
      "together and plans to save \\$4,800 per year, starting at the end of this year, \n",
      "in a retirement fund until she is 65. Assume that she can make 7% on her account. \n",
      "How much will she have for retirement at age 65? "
     ]
    },
    {
     "cell_type": "code",
     "collapsed": false,
     "input": [
      "n = 65 - 35\n",
      "r = 0.07\n",
      "c = 4800\n",
      "\n",
      "fi.rnd(fi.fv(c, n, r))"
     ],
     "language": "python",
     "metadata": {},
     "outputs": [
      {
       "metadata": {},
       "output_type": "pyout",
       "prompt_number": 3,
       "text": [
        "453412"
       ]
      }
     ],
     "prompt_number": 3
    },
    {
     "cell_type": "markdown",
     "metadata": {},
     "source": [
      "### Question 3\n",
      "(5 points) Mohammad has just turned 21 and now has access to the money his parents \n",
      "have been putting away in an account for him since he was 5 years old. His mother \n",
      "has asked him to guess what his account is worth given that they have invested \n",
      "\\$1,000 every year in the account starting on his 5th birthday and have just made one. \n",
      "The interest rate on the account has been 3.5% annually. \n",
      "How much is Mohammad's account worth today? "
     ]
    },
    {
     "cell_type": "code",
     "collapsed": false,
     "input": [
      "n = 21 - 5 + 1\n",
      "r = 0.035\n",
      "c = 1000\n",
      "\n",
      "fi.rnd(fi.fv(c, n, r))"
     ],
     "language": "python",
     "metadata": {},
     "outputs": [
      {
       "metadata": {},
       "output_type": "pyout",
       "prompt_number": 4,
       "text": [
        "22705"
       ]
      }
     ],
     "prompt_number": 4
    },
    {
     "cell_type": "markdown",
     "metadata": {},
     "source": [
      "### Question 4\n",
      "(5 points) Marcel has just graduated from college and has found a job that will pay \n",
      "him \\$25,000 per year at the end of each year, but the job is only for 5 years. \n",
      "He is not worried about that because he plans to do an MBA after gaining 5 years \n",
      "experience anyway. What is the value today of his 5-year salary assuming that the \n",
      "interest rate is 3%?"
     ]
    },
    {
     "cell_type": "code",
     "collapsed": false,
     "input": [
      "n = 5\n",
      "r = 0.03\n",
      "c = 25000\n",
      "\n",
      "fi.rnd(fi.pv(c, n, r))"
     ],
     "language": "python",
     "metadata": {},
     "outputs": [
      {
       "metadata": {},
       "output_type": "pyout",
       "prompt_number": 5,
       "text": [
        "114493"
       ]
      }
     ],
     "prompt_number": 5
    },
    {
     "cell_type": "markdown",
     "metadata": {},
     "source": [
      "### Question 5\n",
      "(10 points) Rachna is considering a life insurance plan that will require her to \n",
      "pay a premium of \\$200 every year for the next 40 years. She wants to make sure \n",
      "that she is able to make this payment and wants to put away a lump sum today in \n",
      "her bank to cover all future payments. How much would she need to deposit in her \n",
      "bank if the annual interest rate on her deposit account is 4%? "
     ]
    },
    {
     "cell_type": "code",
     "collapsed": false,
     "input": [
      "c = 200\n",
      "n = 40\n",
      "r = 0.04\n",
      "\n",
      "fi.rnd(fi.pv(c, n, r))"
     ],
     "language": "python",
     "metadata": {},
     "outputs": [
      {
       "metadata": {},
       "output_type": "pyout",
       "prompt_number": 6,
       "text": [
        "3959"
       ]
      }
     ],
     "prompt_number": 6
    },
    {
     "cell_type": "markdown",
     "metadata": {},
     "source": [
      "### Question 6\n",
      "(10 points) Roxanne is in the market for a new house, and she has found a house \n",
      "she likes that is selling for \\$250,000. The down payment on the house is 20% (the \n",
      "amount that the bank should require you to pay in cash) and Roxanne plans to finance\n",
      "the remainder with a fixed rate mortgage. The annual rate is 6% and the mortgage is\n",
      "for 15 years, though payments are monthly. What is the interest component of Roxanne's\n",
      "first monthly payment?"
     ]
    },
    {
     "cell_type": "code",
     "collapsed": false,
     "input": [
      "loan = 0.8 * 250000\n",
      "r    = 0.06/12\n",
      "\n",
      "fi.rnd(loan * r)"
     ],
     "language": "python",
     "metadata": {},
     "outputs": [
      {
       "metadata": {},
       "output_type": "pyout",
       "prompt_number": 7,
       "text": [
        "1000"
       ]
      }
     ],
     "prompt_number": 7
    },
    {
     "cell_type": "markdown",
     "metadata": {},
     "source": [
      "### Question 7\n",
      "(15 points) Baako has invested \\$75,000 in a trust fund at 9% for his child's college \n",
      "education. His child will draw \\$30,000 per year for four years, starting at the end \n",
      "of year 7. What will be the amount that will be left over in the education fund at \n",
      "the end of year 10, just after the child has withdrawn the fourth time? "
     ]
    },
    {
     "cell_type": "code",
     "collapsed": false,
     "input": [
      "r = 0.09\n",
      "investment = fi.comp(75000, 10, r)\n",
      "education  = fi.fv(30000, 4, r)\n",
      "\n",
      "fi.rnd(investment - education)"
     ],
     "language": "python",
     "metadata": {},
     "outputs": [
      {
       "metadata": {},
       "output_type": "pyout",
       "prompt_number": 8,
       "text": [
        "40358"
       ]
      }
     ],
     "prompt_number": 8
    },
    {
     "cell_type": "markdown",
     "metadata": {},
     "source": [
      "### Question 8\n",
      "(15 points) Two years ago Abilia purchased a \\$10,000 car; she paid \\$2,000 down and \n",
      "borrowed the rest. She took a fixed rate 60-month instalment loan at a stated rate\n",
      "of 8% per year. Interest rates have fallen during the last two years and she can \n",
      "refinance her car by borrowing the amount she still owes on the car at a new \n",
      "fixed rate of 6% per year for 3 years. Should Abilia refinance her loan? How \n",
      "much will she save per month for the next three years if she decides to \n",
      "refinance?"
     ]
    },
    {
     "cell_type": "code",
     "collapsed": false,
     "input": [
      "bal = 10000 - 2000\n",
      "r_8 = 0.08/12\n",
      "n_8 = 60\n",
      "p_8 = fi.pmt(bal, n_8, r_8)\n",
      "n_6 = 3*12\n",
      "bal = fi.pv(p_8, n_6, r_8)\n",
      "r_6 = 0.06/12\n",
      "p_6 = fi.pmt(bal, n_6, r_6)\n",
      "\n",
      "if (p_6 < p_8):\n",
      " ans = '(yes, %s)' % str(fi.rnd(p_8-p_6))\n",
      "else:\n",
      " ans = '(no, %s)'  % str(fi.rnd(p_6-p_8))\n",
      "\n",
      "ans"
     ],
     "language": "python",
     "metadata": {},
     "outputs": [
      {
       "metadata": {},
       "output_type": "pyout",
       "prompt_number": 9,
       "text": [
        "'(yes, 5)'"
       ]
      }
     ],
     "prompt_number": 9
    },
    {
     "cell_type": "markdown",
     "metadata": {},
     "source": [
      "### Question 9\n",
      "(15 points) Two years ago, you purchased a \\$20,000 car, putting \\$4,000 down and \n",
      "borrowing the rest. Your loan was a 48-month fixed rate loan at a stated rate \n",
      "of 6% per year.You paid a non-refundable application fee of $100 at that time \n",
      "in cash. Interest rates have fallen during the last two years and a new bank \n",
      "now offers to refinance your car by lending you the balance due at a stated rate\n",
      "of 4% per year. You will use the proceeds of this loan to pay off the old loan. \n",
      "Suppose the new loan requires a \\$200 non-refundable application fee. Given all \n",
      "this information, should you refinance? How much do you gain/lose if you do?"
     ]
    },
    {
     "cell_type": "code",
     "collapsed": false,
     "input": [
      "loan      = 20000 - 4000\n",
      "r         = 0.06/12\n",
      "n         = 48\n",
      "payment   = fi.pmt(loan, n, r)\n",
      "balance   = fi.pv(payment, n/2, r)\n",
      "new_price = balance + 200\n",
      "r_new     = 0.04/12 \n",
      "old_price = fi.pv(payment, n/2, r_new)\n",
      "\n",
      "if (new_price < old_price):\n",
      " ans = '(yes, gain %s)' % str(fi.rnd(old_price - new_price))\n",
      "else:\n",
      " ans = '(no, lose %s)'  % str(fi.rnd(new_price - old_price))\n",
      "\n",
      "ans"
     ],
     "language": "python",
     "metadata": {},
     "outputs": [
      {
       "metadata": {},
       "output_type": "pyout",
       "prompt_number": 10,
       "text": [
        "'(no, lose 25)'"
       ]
      }
     ],
     "prompt_number": 10
    },
    {
     "cell_type": "markdown",
     "metadata": {},
     "source": [
      "### Question 10\n",
      "(15 points) You have just started your first job and you want to have the basic \n",
      "appliances (fridge, washer, dryer, etc.) in your apartment. You face the \n",
      "following choices: (i) Purchase all appliances at the store using a bank loan. \n",
      "There is no down payment as the bank can take your appliances if you default on \n",
      "the loan. The loan is at the annual market rate of 5%, and the loan amount is \n",
      "\\$6,000 to be repaid monthly over 4 years.(ii) Rent-to-buy from the same store. \n",
      "The monthly rental is \\$125 for 48 months and then you pay $1,000 to own all the \n",
      "appliances. What is the net cost today of the cheapest option?"
     ]
    },
    {
     "cell_type": "code",
     "collapsed": false,
     "input": [
      "rate     = 0.05/12\n",
      "option_1 = 6000\n",
      "option_2 = fi.pv(125, 48, rate) + fi.disc(1000, 48, rate)\n",
      "\n",
      "fi.rnd(option_1 if (option_1 < option_2) else option_2)"
     ],
     "language": "python",
     "metadata": {},
     "outputs": [
      {
       "metadata": {},
       "output_type": "pyout",
       "prompt_number": 11,
       "text": [
        "6000"
       ]
      }
     ],
     "prompt_number": 11
    },
    {
     "cell_type": "markdown",
     "metadata": {},
     "source": [
      "### Extra Question: 1\n",
      "(15 points) You are interested in a new Ford Taurus. After visiting your Ford dealer, \n",
      "doing your research on the best leases available, you have three options. (i) Purchase \n",
      "the car for cash and receive a \\$1,500 cash rebate from Dealer A. The price of the car is \n",
      "\\$15,000. (ii) Lease the car from Dealer B. Under this option, you pay the dealer \\$500 now \n",
      "and \\$200 a month for each of the next 36 months (the first \\$200 payment occurs 1 month \n",
      "from today). After 36 months you may buy the car for \\$8,000. (iii) Purchase the car from \n",
      "Dealer C who will lend you the entire purchase price of the car for a zero interest \n",
      "36-month loan with monthly payments. The car price is $15,000. Suppose the market interest \n",
      "rate is 6%. What is the net cost today of the cheapest option? "
     ]
    },
    {
     "cell_type": "code",
     "collapsed": false,
     "input": [
      "# Market interest rate (monthly) and loan duration (months)\n",
      "r = 0.06/12\n",
      "n = 36\n",
      "\n",
      "# Option (i)\n",
      "sticker_price   = 15000\n",
      "discount        = 1500\n",
      "option_1        = sticker_price - discount\n",
      "\n",
      "# Option (ii)\n",
      "down_payment    = 500\n",
      "lease_payment   = 200\n",
      "residual        = 8000\n",
      "option_2        = down_payment + fi.pv(lease_payment, n, r) + fi.disc(residual, n, r)\n",
      "\n",
      "# Option (iii)\n",
      "sticker_price   = 15000\n",
      "monthly_payment = sticker_price/n\n",
      "option_3        = fi.pv(monthly_payment, n, r)\n",
      "\n",
      "if (option_1 < option_2 and option_1 < option_3):\n",
      "  ans = 'Option 1 (Dealer A): %s' % fi.rnd(option_1)\n",
      "elif (option_2 < option_3):\n",
      "  ans = 'Option 2 (Dealer B): %s' % fi.rnd(option_2)\n",
      "else:\n",
      "  ans = 'Option 3 (Dealer C): %s' % fi.rnd(option_3)\n",
      "\n",
      "ans"
     ],
     "language": "python",
     "metadata": {},
     "outputs": [
      {
       "metadata": {},
       "output_type": "pyout",
       "prompt_number": 12,
       "text": [
        "'Option 1 (Dealer A): 13500'"
       ]
      }
     ],
     "prompt_number": 12
    },
    {
     "cell_type": "markdown",
     "metadata": {},
     "source": [
      "### Extra Question: 2\n",
      "Suppose you are exactly 30 years old. You believe that you will be able to save for\n",
      "the next 20 years, until you are 50. For 10 years following that, and till your \n",
      "retirement at age 60, you will have a spike in expenses and you will not be\n",
      "able to save. If you want to guarantee yourself \\$8,000 per month starting one month \n",
      "after your 60th birthday, how much should you save every month, for the next 20 years\n",
      "starting at the end of next month. Assume your investments are expected to yield 8%\n",
      "annually and you are likely to live till 80.\n"
     ]
    },
    {
     "cell_type": "code",
     "collapsed": false,
     "input": [
      "r                = 0.08/12\n",
      "expenses         = fi.disc(fi.pv(8000, (80-60)*12, r), (60-30)*12, r)\n",
      "saving_per_month = fi.pmt(expenses, (50-30)*12, r)\n",
      "\n",
      "fi.rnd(saving_per_month)"
     ],
     "language": "python",
     "metadata": {},
     "outputs": [
      {
       "metadata": {},
       "output_type": "pyout",
       "prompt_number": 13,
       "text": [
        "732"
       ]
      }
     ],
     "prompt_number": 13
    }
   ],
   "metadata": {}
  }
 ]
}